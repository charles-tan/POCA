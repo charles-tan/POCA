{
 "cells": [
  {
   "cell_type": "code",
   "execution_count": 2,
   "metadata": {},
   "outputs": [],
   "source": [
    "import statsmodels.api as sm\n",
    "import statsmodels.formula.api as smf\n",
    "import pandas as pd\n",
    "from sklearn.preprocessing import LabelEncoder\n",
    "import numpy as np"
   ]
  },
  {
   "cell_type": "code",
   "execution_count": 3,
   "metadata": {},
   "outputs": [
    {
     "data": {
      "text/plain": [
       "'\\ndata = sm.datasets.get_rdataset(\"dietox\", \"geepack\").data\\nprint(data)\\nmd = smf.mixedlm(\"Weight ~ Time\", data, groups=data[\"Pig\"])\\nmdf = md.fit()\\nprint(mdf.summary())\\n'"
      ]
     },
     "execution_count": 3,
     "metadata": {},
     "output_type": "execute_result"
    }
   ],
   "source": [
    "'''\n",
    "data = sm.datasets.get_rdataset(\"dietox\", \"geepack\").data\n",
    "print(data)\n",
    "md = smf.mixedlm(\"Weight ~ Time\", data, groups=data[\"Pig\"])\n",
    "mdf = md.fit()\n",
    "print(mdf.summary())\n",
    "'''"
   ]
  },
  {
   "cell_type": "markdown",
   "metadata": {},
   "source": [
    "## Encode data"
   ]
  },
  {
   "cell_type": "code",
   "execution_count": 46,
   "metadata": {},
   "outputs": [],
   "source": [
    "drop_cols = ['primary_status', 'general_status', 'primary_runoff_status', 'twitter_handle']\n",
    "\n",
    "# encode data\n",
    "encode_dem_cols = ['candidate', 'won_primary', 'state', 'district', 'office_type', 'race_type', 'race', 'veteran', 'race_primary',\n",
    "    'lgbtq', 'elected_official', 'self_funder', 'stem', 'obama_alum', 'dem_party_support', 'emily_endorsed',\n",
    "    'guns_sense_candidate', 'biden_endorsed', 'warren_endorsed', 'sanders_endorsed', 'our_revolution_endorsed',\n",
    "    'justice_dems_endorsed', 'pccc_endorsed', 'indivisible_endorsed', 'wfp_endorsed', 'votevets_endorsed', 'no_labels_support']\n",
    "\n",
    "encode_rep_cols = ['candidate', 'won_primary', 'state', 'district', 'office_type', 'race_type', 'race_primary_election_date',\n",
    "    'rep_party_support', 'trump_endorsed', 'bannon_endorsed', 'great_america_endorsed', 'nra_endorsed',\n",
    "    'right_to_life_endorsed', 'susan_b_anthony_endorsed', 'club_for_growth_endorsed', 'koch_support', 'house_freedom_support',\n",
    "    'tea_party_endorsed', 'main_street_endorsed','chamber_endorsed', 'no_labels_support']\n",
    "\n",
    "\n",
    "dem_df = pd.read_csv('../data/dem_candidates.csv', encoding=\"ISO-8859-1\").dropna(subset=['primary_pctg'])\n",
    "rep_df = pd.read_csv('../data/rep_candidates.csv', encoding=\"ISO-8859-1\").dropna(subset=['primary_pctg'])\n",
    "\n",
    "label_encoder = LabelEncoder()\n",
    "\n",
    "def label_encode_data(df, encode_cols):\n",
    "    for col in encode_cols:\n",
    "        df[col] = label_encoder.fit_transform(df[col].values.astype(str))\n",
    "\n",
    "    return df\n",
    "\n",
    "dem_df_enc = label_encode_data(dem_df, encode_dem_cols)\n",
    "rep_df_enc = label_encode_data(rep_df, encode_rep_cols)\n",
    "\n",
    "dem_df_enc.to_csv('../data/encoded_dem_data.csv', index=False)\n",
    "rep_df_enc.to_csv('../data/encoded_rep_data.csv', index=False)\n"
   ]
  },
  {
   "cell_type": "code",
   "execution_count": 37,
   "metadata": {},
   "outputs": [],
   "source": []
  },
  {
   "cell_type": "markdown",
   "metadata": {},
   "source": [
    "## Democratic - mixedlm"
   ]
  },
  {
   "cell_type": "code",
   "execution_count": 49,
   "metadata": {},
   "outputs": [
    {
     "name": "stdout",
     "output_type": "stream",
     "text": [
      "              Mixed Linear Model Regression Results\n",
      "==================================================================\n",
      "Model:               MixedLM    Dependent Variable:    won_primary\n",
      "No. Observations:    857        Method:                REML       \n",
      "No. Groups:          790        Scale:                 0.0167     \n",
      "Min. group size:     1          Likelihood:            -614.5427  \n",
      "Max. group size:     2          Converged:             Yes        \n",
      "Mean group size:     1.1                                          \n",
      "------------------------------------------------------------------\n",
      "                        Coef.  Std.Err.   z    P>|z| [0.025 0.975]\n",
      "------------------------------------------------------------------\n",
      "Intercept               -0.987    0.277 -3.563 0.000 -1.530 -0.444\n",
      "state                    0.000    0.005  0.022 0.983 -0.009  0.010\n",
      "district                 0.000    0.001  0.219 0.826 -0.002  0.002\n",
      "office_type              0.082    0.106  0.774 0.439 -0.126  0.290\n",
      "race_type               -0.008    0.056 -0.151 0.880 -0.119  0.102\n",
      "race                     0.080    0.030  2.683 0.007  0.021  0.138\n",
      "veteran                 -0.034    0.047 -0.722 0.471 -0.127  0.059\n",
      "race_primary             0.033    0.008  4.268 0.000  0.018  0.049\n",
      "lgbtq                   -0.061    0.070 -0.871 0.384 -0.197  0.076\n",
      "elected_official         0.104    0.047  2.197 0.028  0.011  0.196\n",
      "self_funder              0.083    0.085  0.966 0.334 -0.085  0.250\n",
      "stem                    -0.168    0.045 -3.738 0.000 -0.256 -0.080\n",
      "obama_alum               0.101    0.087  1.164 0.244 -0.069  0.272\n",
      "dem_party_support        0.008    0.036  0.215 0.830 -0.062  0.078\n",
      "emily_endorsed           0.064    0.028  2.263 0.024  0.009  0.119\n",
      "guns_sense_candidate     0.078    0.026  3.052 0.002  0.028  0.128\n",
      "biden_endorsed           0.137    0.054  2.529 0.011  0.031  0.243\n",
      "warren_endorsed         -0.011    0.064 -0.165 0.869 -0.135  0.114\n",
      "sanders_endorsed        -0.039    0.062 -0.626 0.531 -0.160  0.082\n",
      "our_revolution_endorsed  0.049    0.023  2.120 0.034  0.004  0.094\n",
      "justice_dems_endorsed    0.016    0.028  0.585 0.558 -0.038  0.071\n",
      "pccc_endorsed            0.062    0.045  1.380 0.167 -0.026  0.150\n",
      "indivisible_endorsed     0.057    0.031  1.855 0.064 -0.003  0.118\n",
      "wfp_endorsed             0.061    0.033  1.885 0.059 -0.002  0.125\n",
      "votevets_endorsed        0.095    0.033  2.895 0.004  0.031  0.159\n",
      "no_labels_support        0.015    0.081  0.184 0.854 -0.144  0.174\n",
      "Group Var                0.237    0.364                           \n",
      "==================================================================\n",
      "\n"
     ]
    }
   ],
   "source": [
    "dem_df = dem_df_enc.drop(drop_cols, axis=1)\n",
    "dem_dep_cols = \" + \".join(encode_dem_cols[2:])\n",
    "\n",
    "\n",
    "model = smf.mixedlm(\"won_primary ~ \" + dep_cols, dem_df, groups=dem_df[\"candidate\"]).fit()\n",
    "print(model.summary())"
   ]
  },
  {
   "cell_type": "code",
   "execution_count": 50,
   "metadata": {},
   "outputs": [
    {
     "name": "stdout",
     "output_type": "stream",
     "text": [
      "                Mixed Linear Model Regression Results\n",
      "=====================================================================\n",
      "Model:                 MixedLM    Dependent Variable:    primary_pctg\n",
      "No. Observations:      857        Method:                REML        \n",
      "No. Groups:            790        Scale:                 0.5801      \n",
      "Min. group size:       1          Likelihood:            -3757.0390  \n",
      "Max. group size:       2          Converged:             Yes         \n",
      "Mean group size:       1.1                                           \n",
      "---------------------------------------------------------------------\n",
      "                         Coef.  Std.Err.   z    P>|z|  [0.025  0.975]\n",
      "---------------------------------------------------------------------\n",
      "Intercept               -71.389   13.974 -5.109 0.000 -98.777 -44.002\n",
      "state                     0.266    0.250  1.067 0.286  -0.223   0.755\n",
      "district                 -0.107    0.048 -2.209 0.027  -0.201  -0.012\n",
      "office_type              19.696    5.420  3.634 0.000   9.072  30.320\n",
      "race_type                 1.864    0.341  5.473 0.000   1.196   2.531\n",
      "race                      0.450    1.544  0.291 0.771  -2.576   3.476\n",
      "veteran                  -1.491    2.467 -0.604 0.546  -6.327   3.344\n",
      "race_primary              2.036    0.399  5.102 0.000   1.254   2.818\n",
      "lgbtq                   -13.563    3.605 -3.762 0.000 -20.630  -6.497\n",
      "elected_official         18.066    2.334  7.739 0.000  13.491  22.642\n",
      "self_funder               6.639    4.448  1.493 0.136  -2.079  15.357\n",
      "stem                     -6.675    2.329 -2.866 0.004 -11.239  -2.111\n",
      "obama_alum               11.053    4.523  2.444 0.015   2.188  19.918\n",
      "dem_party_support        -1.221    1.862 -0.656 0.512  -4.871   2.429\n",
      "emily_endorsed            3.719    1.460  2.547 0.011   0.857   6.582\n",
      "guns_sense_candidate      5.309    1.329  3.996 0.000   2.705   7.913\n",
      "biden_endorsed            9.670    2.811  3.441 0.001   4.162  15.179\n",
      "warren_endorsed           0.282    3.313  0.085 0.932  -6.211   6.775\n",
      "sanders_endorsed         -3.215    3.208 -1.002 0.316  -9.502   3.072\n",
      "our_revolution_endorsed   2.620    1.195  2.192 0.028   0.277   4.963\n",
      "justice_dems_endorsed     0.886    1.447  0.612 0.540  -1.950   3.721\n",
      "pccc_endorsed             3.572    2.343  1.525 0.127  -1.019   8.163\n",
      "indivisible_endorsed      2.895    1.601  1.809 0.070  -0.242   6.032\n",
      "wfp_endorsed              9.738    1.486  6.552 0.000   6.825  12.650\n",
      "votevets_endorsed        12.482    1.534  8.135 0.000   9.474  15.489\n",
      "no_labels_support        -1.093    4.208 -0.260 0.795  -9.341   7.155\n",
      "Group Var               685.874  176.132                             \n",
      "=====================================================================\n",
      "\n"
     ]
    }
   ],
   "source": [
    "model = smf.mixedlm(\"primary_pctg ~ \" + dem_dep_cols, dem_df, groups=dem_df[\"candidate\"]).fit()\n",
    "print(model.summary())"
   ]
  },
  {
   "cell_type": "markdown",
   "metadata": {},
   "source": [
    "## Republican - mixedlm"
   ]
  },
  {
   "cell_type": "code",
   "execution_count": 51,
   "metadata": {},
   "outputs": [
    {
     "name": "stdout",
     "output_type": "stream",
     "text": [
      "                Mixed Linear Model Regression Results\n",
      "=====================================================================\n",
      "Model:                MixedLM     Dependent Variable:     won_primary\n",
      "No. Observations:     773         Method:                 REML       \n",
      "No. Groups:           755         Scale:                  0.0048     \n",
      "Min. group size:      1           Likelihood:             -476.9141  \n",
      "Max. group size:      8           Converged:              Yes        \n",
      "Mean group size:      1.0                                            \n",
      "---------------------------------------------------------------------\n",
      "                           Coef.  Std.Err.   z    P>|z| [0.025 0.975]\n",
      "---------------------------------------------------------------------\n",
      "Intercept                  -0.623    0.185 -3.357 0.001 -0.986 -0.259\n",
      "state                       0.001    0.002  0.512 0.609 -0.002  0.004\n",
      "district                   -0.000    0.001 -0.567 0.571 -0.001  0.001\n",
      "office_type                 0.095    0.066  1.446 0.148 -0.034  0.224\n",
      "race_type                  -0.006    0.032 -0.197 0.844 -0.069  0.056\n",
      "race_primary_election_date -0.001    0.004 -0.176 0.860 -0.008  0.007\n",
      "rep_party_support           0.098    0.028  3.479 0.001  0.043  0.154\n",
      "trump_endorsed              0.051    0.038  1.330 0.183 -0.024  0.125\n",
      "bannon_endorsed             0.043    0.051  0.850 0.395 -0.056  0.143\n",
      "great_america_endorsed      0.052    0.044  1.180 0.238 -0.034  0.138\n",
      "nra_endorsed                0.047    0.033  1.446 0.148 -0.017  0.112\n",
      "right_to_life_endorsed      0.087    0.028  3.133 0.002  0.032  0.141\n",
      "susan_b_anthony_endorsed    0.017    0.024  0.720 0.472 -0.030  0.064\n",
      "club_for_growth_endorsed    0.005    0.029  0.156 0.876 -0.053  0.062\n",
      "koch_support                0.026    0.029  0.884 0.377 -0.031  0.082\n",
      "house_freedom_support       0.089    0.037  2.399 0.016  0.016  0.161\n",
      "tea_party_endorsed          0.080    0.030  2.671 0.008  0.021  0.138\n",
      "main_street_endorsed        0.056    0.031  1.830 0.067 -0.004  0.116\n",
      "chamber_endorsed           -0.103    0.045 -2.314 0.021 -0.190 -0.016\n",
      "no_labels_support          -0.023    0.057 -0.410 0.682 -0.136  0.089\n",
      "Group Var                   0.184    2.119                           \n",
      "=====================================================================\n",
      "\n"
     ]
    }
   ],
   "source": [
    "rep_dep_cols = \" + \".join(encode_rep_cols[2:])\n",
    "rep_df = rep_df_enc.drop(drop_cols, axis=1)\n",
    "model = smf.mixedlm(\"won_primary ~ \" + rep_dep_cols, rep_df, groups=rep_df[\"candidate\"]).fit()\n",
    "print(model.summary())"
   ]
  },
  {
   "cell_type": "code",
   "execution_count": 52,
   "metadata": {},
   "outputs": [
    {
     "name": "stdout",
     "output_type": "stream",
     "text": [
      "                 Mixed Linear Model Regression Results\n",
      "========================================================================\n",
      "Model:                  MixedLM     Dependent Variable:     primary_pctg\n",
      "No. Observations:       773         Method:                 REML        \n",
      "No. Groups:             755         Scale:                  117.7749    \n",
      "Min. group size:        1           Likelihood:             -3623.2014  \n",
      "Max. group size:        8           Converged:              Yes         \n",
      "Mean group size:        1.0                                             \n",
      "------------------------------------------------------------------------\n",
      "                            Coef.  Std.Err.   z    P>|z|  [0.025  0.975]\n",
      "------------------------------------------------------------------------\n",
      "Intercept                  -57.776   13.210 -4.374 0.000 -83.668 -31.885\n",
      "state                        0.116    0.142  0.819 0.413  -0.162   0.394\n",
      "district                    -0.029    0.043 -0.659 0.510  -0.114   0.057\n",
      "office_type                  9.452    5.176  1.826 0.068  -0.694  19.597\n",
      "race_type                   -3.830    4.558 -0.840 0.401 -12.764   5.103\n",
      "race_primary_election_date   0.236    0.269  0.877 0.380  -0.292   0.764\n",
      "rep_party_support            7.387    1.833  4.030 0.000   3.795  10.979\n",
      "trump_endorsed               3.698    2.475  1.494 0.135  -1.152   8.548\n",
      "bannon_endorsed              3.400    3.792  0.897 0.370  -4.032  10.831\n",
      "great_america_endorsed       3.827    4.042  0.947 0.344  -4.094  11.748\n",
      "nra_endorsed                 4.934    2.123  2.324 0.020   0.773   9.095\n",
      "right_to_life_endorsed      10.887    1.244  8.749 0.000   8.448  13.325\n",
      "susan_b_anthony_endorsed     3.613    1.621  2.229 0.026   0.436   6.790\n",
      "club_for_growth_endorsed     2.339    2.006  1.166 0.244  -1.593   6.272\n",
      "koch_support                 2.486    1.867  1.331 0.183  -1.174   6.146\n",
      "house_freedom_support        5.518    2.437  2.264 0.024   0.741  10.296\n",
      "tea_party_endorsed           5.974    1.949  3.065 0.002   2.154   9.794\n",
      "main_street_endorsed         5.512    1.960  2.812 0.005   1.670   9.354\n",
      "chamber_endorsed            -7.904    3.297 -2.398 0.017 -14.365  -1.443\n",
      "no_labels_support           -1.109    3.674 -0.302 0.763  -8.311   6.092\n",
      "Group Var                  659.420   30.400                             \n",
      "========================================================================\n",
      "\n"
     ]
    }
   ],
   "source": [
    "model = smf.mixedlm(\"primary_pctg ~ \" + rep_dep_cols, rep_df, groups=rep_df[\"candidate\"]).fit()\n",
    "print(model.summary())"
   ]
  },
  {
   "cell_type": "code",
   "execution_count": null,
   "metadata": {},
   "outputs": [],
   "source": []
  }
 ],
 "metadata": {
  "kernelspec": {
   "display_name": "Python 3",
   "language": "python",
   "name": "python3"
  },
  "language_info": {
   "codemirror_mode": {
    "name": "ipython",
    "version": 3
   },
   "file_extension": ".py",
   "mimetype": "text/x-python",
   "name": "python",
   "nbconvert_exporter": "python",
   "pygments_lexer": "ipython3",
   "version": "3.6.2"
  }
 },
 "nbformat": 4,
 "nbformat_minor": 2
}
