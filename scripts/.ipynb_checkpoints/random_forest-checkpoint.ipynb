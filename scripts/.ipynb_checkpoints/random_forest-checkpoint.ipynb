{
 "cells": [
  {
   "cell_type": "code",
   "execution_count": 1,
   "metadata": {},
   "outputs": [],
   "source": [
    "import pandas as pd\n",
    "import numpy as np\n",
    "from sklearn.ensemble import RandomForestRegressor\n",
    "from sklearn.datasets import make_regression"
   ]
  },
  {
   "cell_type": "code",
   "execution_count": 14,
   "metadata": {},
   "outputs": [],
   "source": [
    "dem_df = pd.read_csv('../data/dem_num_endorsements.csv', encoding=\"ISO-8859-1\").dropna(subset=['primary_pctg'])\n",
    "rep_df = pd.read_csv('../data/rep_num_endorsements.csv', encoding=\"ISO-8859-1\").dropna(subset=['primary_pctg'])\n",
    "\n",
    "dem_drop_cols = ['won_primary', 'primary_status', 'general_status', 'primary_pctg', 'candidate', 'primary_runoff_status', \n",
    "'num_non_endorsements', 'num_endorsements', 'partisan_lean', 'district']\n",
    "\n",
    "rep_drop_cols = ['won_primary', 'primary_status', 'general_status', 'primary_pctg', 'candidate', 'primary_runoff_status', \n",
    "'num_non_endorsements', 'num_endorsements']\n",
    "# drop race primary (date), candidate (name irrelevant)\n",
    "\n",
    "def run_random_forest(df, drop_cols):\n",
    "    msk = np.random.rand(len(df)) < 0.8\n",
    "    train = df[msk]\n",
    "    test = df[~msk]\n",
    "\n",
    "    train_x = train.drop(drop_cols, axis=1)\n",
    "    train_y = train[['primary_pctg', 'won_primary']]\n",
    "    train_y_primary_pctg = train['primary_pctg']\n",
    "    train_y_won_primary = train['won_primary']\n",
    "\n",
    "\n",
    "    test_x = test.drop(drop_cols, axis=1) \n",
    "    test_y = test[['primary_pctg', 'won_primary']]\n",
    "    test_y_primary_pctg = test['primary_pctg']\n",
    "    test_y_won_primary = test['won_primary']\n",
    "\n",
    "    regr = RandomForestRegressor(max_depth=2, random_state=0, n_estimators=100)\n",
    "    regr.fit(train_x, train_y)\n",
    "\n",
    "    regr.score(test_x, test_y)\n",
    "    feature_importances = pd.DataFrame(regr.feature_importances_, index = train_x.columns, columns=['importance']).sort_values('importance',ascending=False)\n",
    "    print(feature_importances)\n"
   ]
  },
  {
   "cell_type": "code",
   "execution_count": 15,
   "metadata": {},
   "outputs": [
    {
     "name": "stdout",
     "output_type": "stream",
     "text": [
      "DEMOCRATIC: \n",
      "                         importance\n",
      "partisan_lean              0.634910\n",
      "guns_sense_candidate       0.185643\n",
      "emily_endorsed             0.079028\n",
      "state                      0.038771\n",
      "district                   0.019106\n",
      "elected_official           0.017243\n",
      "race_primary               0.012536\n",
      "dem_party_support          0.009377\n",
      "veteran                    0.001694\n",
      "race                       0.001692\n",
      "lgbtq                      0.000000\n",
      "sanders_endorsed           0.000000\n",
      "votevets_endorsed          0.000000\n",
      "wfp_endorsed               0.000000\n",
      "indivisible_endorsed       0.000000\n",
      "pccc_endorsed              0.000000\n",
      "justice_dems_endorsed      0.000000\n",
      "our_revolution_endorsed    0.000000\n",
      "warren_endorsed            0.000000\n",
      "biden_endorsed             0.000000\n",
      "office_type                0.000000\n",
      "race_type                  0.000000\n",
      "obama_alum                 0.000000\n",
      "stem                       0.000000\n",
      "self_funder                0.000000\n",
      "no_labels_support          0.000000\n",
      "\n",
      "\n"
     ]
    }
   ],
   "source": [
    "# dem_drop_cols.append('partisan_lean')\n",
    "# dem_drop_cols.append('district')\n",
    "\n",
    "print(\"DEMOCRATIC: \")\n",
    "run_random_forest(dem_df, dem_drop_cols)\n",
    "print(\"\\n\")"
   ]
  },
  {
   "cell_type": "code",
   "execution_count": 16,
   "metadata": {},
   "outputs": [
    {
     "name": "stdout",
     "output_type": "stream",
     "text": [
      "REPUBLICAN: \n",
      "                            importance\n",
      "right_to_life_endorsed        0.662182\n",
      "district                      0.092004\n",
      "susan_b_anthony_endorsed      0.090403\n",
      "koch_support                  0.068866\n",
      "rep_party_support             0.040039\n",
      "club_for_growth_endorsed      0.014544\n",
      "main_street_endorsed          0.011855\n",
      "tea_party_endorsed            0.011239\n",
      "house_freedom_support         0.006127\n",
      "state                         0.002163\n",
      "race_primary_election_date    0.000577\n",
      "chamber_endorsed              0.000000\n",
      "nra_endorsed                  0.000000\n",
      "great_america_endorsed        0.000000\n",
      "bannon_endorsed               0.000000\n",
      "trump_endorsed                0.000000\n",
      "race_type                     0.000000\n",
      "office_type                   0.000000\n",
      "no_labels_support             0.000000\n"
     ]
    }
   ],
   "source": [
    "print(\"REPUBLICAN: \")\n",
    "run_random_forest(rep_df, rep_drop_cols)"
   ]
  },
  {
   "cell_type": "code",
   "execution_count": null,
   "metadata": {},
   "outputs": [],
   "source": []
  }
 ],
 "metadata": {
  "kernelspec": {
   "display_name": "Python 3",
   "language": "python",
   "name": "python3"
  },
  "language_info": {
   "codemirror_mode": {
    "name": "ipython",
    "version": 3
   },
   "file_extension": ".py",
   "mimetype": "text/x-python",
   "name": "python",
   "nbconvert_exporter": "python",
   "pygments_lexer": "ipython3",
   "version": "3.6.2"
  }
 },
 "nbformat": 4,
 "nbformat_minor": 2
}
