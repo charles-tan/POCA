{
 "cells": [
  {
   "cell_type": "code",
   "execution_count": 5,
   "metadata": {},
   "outputs": [],
   "source": [
    "import pandas as pd\n",
    "import matplotlib.pyplot as plt"
   ]
  },
  {
   "cell_type": "code",
   "execution_count": 2,
   "metadata": {},
   "outputs": [],
   "source": [
    "dem_df = pd.read_csv('../data/post_dem_candidates_with_tweet_topics.csv', encoding=\"ISO-8859-1\").dropna(subset=['primary_pctg'])\n",
    "rep_df = pd.read_csv('../data/post_rep_candidates_with_tweet_topics.csv', encoding=\"ISO-8859-1\").dropna(subset=['primary_pctg'])\n",
    "\n",
    "sa_all_tweets = pd.read_csv('../data/tweet_data/sa_all_tweets_post.csv', index_col=False)\n"
   ]
  },
  {
   "cell_type": "code",
   "execution_count": 4,
   "metadata": {
    "scrolled": true
   },
   "outputs": [
    {
     "data": {
      "text/plain": [
       "Index(['candidate', 'twitter_handle', 'twitter_handle2', 'state', 'district',\n",
       "       'office_type', 'race_type', 'race_primary_election_date',\n",
       "       'primary_status', 'primary_runoff_status', 'general_status',\n",
       "       'partisan_lean', 'primary_pctg', 'won_primary', 'race', 'veteran',\n",
       "       'lgbtq', 'elected_official', 'self_funder', 'stem', 'obama_alum',\n",
       "       'dem_party_support', 'emily_endorsed', 'gun_sense_candidate',\n",
       "       'biden_endorsed', 'warren_endorsed', 'sanders_endorsed',\n",
       "       'our_revolution_endorsed', 'justice_dems_endorsed', 'pccc_endorsed',\n",
       "       'indivisible_endorsed', 'wfp_endorsed', 'votevets_endorsed',\n",
       "       'no_labels_support', 'has_twitter', 'num_endorsements',\n",
       "       'gun_control_tweet_count', 'health_care_tweet_count',\n",
       "       'abortion_tweet_count', 'immigration_tweet_count',\n",
       "       'kavanaugh_tweet_count', 'education_tweet_count', 'jobs_tweet_count',\n",
       "       'tax_tweet_count', 'fake_news_tweet_count', 'environment_tweet_count',\n",
       "       'sexual_assault_tweet_count', 'gender_tweet_count', 'women_tweet_count',\n",
       "       'lgbt_tweet_count', 'freedom_tweet_count', 'trump_tweet_count',\n",
       "       'num_tweets', 'count_negative', 'count_neutral', 'count_positive',\n",
       "       'sentiment'],\n",
       "      dtype='object')"
      ]
     },
     "execution_count": 4,
     "metadata": {},
     "output_type": "execute_result"
    }
   ],
   "source": [
    "dem_df.columns"
   ]
  },
  {
   "cell_type": "code",
   "execution_count": 20,
   "metadata": {},
   "outputs": [
    {
     "data": {
      "text/html": [
       "<div>\n",
       "<style scoped>\n",
       "    .dataframe tbody tr th:only-of-type {\n",
       "        vertical-align: middle;\n",
       "    }\n",
       "\n",
       "    .dataframe tbody tr th {\n",
       "        vertical-align: top;\n",
       "    }\n",
       "\n",
       "    .dataframe thead th {\n",
       "        text-align: right;\n",
       "    }\n",
       "</style>\n",
       "<table border=\"1\" class=\"dataframe\">\n",
       "  <thead>\n",
       "    <tr style=\"text-align: right;\">\n",
       "      <th></th>\n",
       "      <th>num_tweets</th>\n",
       "      <th>count_negative</th>\n",
       "      <th>count_positive</th>\n",
       "      <th>sentiment</th>\n",
       "    </tr>\n",
       "  </thead>\n",
       "  <tbody>\n",
       "    <tr>\n",
       "      <th>0</th>\n",
       "      <td>0</td>\n",
       "      <td>0</td>\n",
       "      <td>0</td>\n",
       "      <td>-1.000000</td>\n",
       "    </tr>\n",
       "    <tr>\n",
       "      <th>1</th>\n",
       "      <td>614</td>\n",
       "      <td>141</td>\n",
       "      <td>334</td>\n",
       "      <td>2.628664</td>\n",
       "    </tr>\n",
       "  </tbody>\n",
       "</table>\n",
       "</div>"
      ],
      "text/plain": [
       "   num_tweets  count_negative  count_positive  sentiment\n",
       "0           0               0               0  -1.000000\n",
       "1         614             141             334   2.628664"
      ]
     },
     "execution_count": 20,
     "metadata": {},
     "output_type": "execute_result"
    }
   ],
   "source": [
    "dem_df[['num_tweets', 'count_negative', 'count_positive', 'sentiment']].head(2)"
   ]
  },
  {
   "cell_type": "code",
   "execution_count": 12,
   "metadata": {},
   "outputs": [
    {
     "name": "stdout",
     "output_type": "stream",
     "text": [
      "0.8044328552803129\n",
      "617\n"
     ]
    }
   ],
   "source": [
    "print(len(dem_df[dem_df['sentiment'] > 0]) / len(dem_df))\n",
    "print(len(dem_df[dem_df['sentiment'] > 0]))"
   ]
  },
  {
   "cell_type": "code",
   "execution_count": 39,
   "metadata": {},
   "outputs": [
    {
     "data": {
      "text/plain": [
       "(array([149.,   0.,   1.,   1.,   8.,  29., 107., 224., 212.,  36.]),\n",
       " array([-1. , -0.5,  0. ,  0.5,  1. ,  1.5,  2. ,  2.5,  3. ,  3.5,  4. ]),\n",
       " <a list of 10 Patch objects>)"
      ]
     },
     "execution_count": 39,
     "metadata": {},
     "output_type": "execute_result"
    },
    {
     "data": {
      "image/png": "[encoded data removed]",
      "text/plain": [
       "<Figure size 432x288 with 1 Axes>"
      ]
     },
     "metadata": {},
     "output_type": "display_data"
    }
   ],
   "source": [
    "fig, axs = plt.subplots(1)\n",
    "axs.hist(dem_df['sentiment'])"
   ]
  },
  {
   "cell_type": "code",
   "execution_count": 40,
   "metadata": {},
   "outputs": [
    {
     "data": {
      "text/plain": [
       "(array([417., 149.,  92.,  42.,  17.,  18.,  11.,   8.,   5.,   2.]),\n",
       " array([   0. ,  192.3,  384.6,  576.9,  769.2,  961.5, 1153.8, 1346.1,\n",
       "        1538.4, 1730.7, 1923. ]),\n",
       " <a list of 10 Patch objects>)"
      ]
     },
     "execution_count": 40,
     "metadata": {},
     "output_type": "execute_result"
    },
    {
     "data": {
      "image/png": "[encoded data removed]",
      "text/plain": [
       "<Figure size 432x288 with 1 Axes>"
      ]
     },
     "metadata": {},
     "output_type": "display_data"
    }
   ],
   "source": [
    "fig, axs = plt.subplots(1)\n",
    "axs.hist(dem_df[dem_df['count_positive'] < 2000].count_positive)"
   ]
  },
  {
   "cell_type": "code",
   "execution_count": 36,
   "metadata": {},
   "outputs": [
    {
     "data": {
      "text/plain": [
       "(array([515., 127.,  46.,  30.,  15.,  12.,   6.,   2.,   3.,   1.]),\n",
       " array([  0. ,  99.3, 198.6, 297.9, 397.2, 496.5, 595.8, 695.1, 794.4,\n",
       "        893.7, 993. ]),\n",
       " <a list of 10 Patch objects>)"
      ]
     },
     "execution_count": 36,
     "metadata": {},
     "output_type": "execute_result"
    },
    {
     "data": {
      "image/png": "[encoded data removed]",
      "text/plain": [
       "<Figure size 432x288 with 1 Axes>"
      ]
     },
     "metadata": {},
     "output_type": "display_data"
    }
   ],
   "source": [
    "fig, axs = plt.subplots(1)\n",
    "axs.hist(dem_df[dem_df['count_negative'] < 1000].count_negative)"
   ]
  },
  {
   "cell_type": "code",
   "execution_count": 38,
   "metadata": {},
   "outputs": [
    {
     "data": {
      "text/plain": [
       "(array([544., 125.,  49.,  16.,  11.,   4.,   7.,   2.,   1.,   4.]),\n",
       " array([  0. ,  99.3, 198.6, 297.9, 397.2, 496.5, 595.8, 695.1, 794.4,\n",
       "        893.7, 993. ]),\n",
       " <a list of 10 Patch objects>)"
      ]
     },
     "execution_count": 38,
     "metadata": {},
     "output_type": "execute_result"
    },
    {
     "data": {
      "image/png": "[encoded data removed]",
      "text/plain": [
       "<Figure size 432x288 with 1 Axes>"
      ]
     },
     "metadata": {},
     "output_type": "display_data"
    }
   ],
   "source": [
    "fig, axs = plt.subplots(1)\n",
    "axs.hist(dem_df[dem_df['count_neutral'] < 1000].count_neutral)"
   ]
  },
  {
   "cell_type": "code",
   "execution_count": null,
   "metadata": {},
   "outputs": [],
   "source": []
  }
 ],
 "metadata": {
  "kernelspec": {
   "display_name": "tf",
   "language": "python",
   "name": "tf"
  },
  "language_info": {
   "codemirror_mode": {
    "name": "ipython",
    "version": 3
   },
   "file_extension": ".py",
   "mimetype": "text/x-python",
   "name": "python",
   "nbconvert_exporter": "python",
   "pygments_lexer": "ipython3",
   "version": "3.6.2"
  }
 },
 "nbformat": 4,
 "nbformat_minor": 2
}
