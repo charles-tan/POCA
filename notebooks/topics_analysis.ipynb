{
 "cells": [
  {
   "cell_type": "code",
   "execution_count": 3,
   "metadata": {},
   "outputs": [],
   "source": [
    "import pandas as pd\n",
    "import matplotlib.pyplot as plt\n",
    "import numpy as np"
   ]
  },
  {
   "cell_type": "code",
   "execution_count": 4,
   "metadata": {},
   "outputs": [],
   "source": [
    "dem_df = pd.read_csv('../data/post_dem_candidates_with_tweet_topics.csv', encoding=\"ISO-8859-1\").dropna(subset=['primary_pctg'])\n",
    "rep_df = pd.read_csv('../data/post_rep_candidates_with_tweet_topics.csv', encoding=\"ISO-8859-1\").dropna(subset=['primary_pctg'])\n",
    "tweets_with_topics = pd.read_csv('../data/tweet_data/tweets_with_topics_post.csv', index_col=False)\n",
    "sa_all_tweets = pd.read_csv('../data/tweet_data/sa_all_tweets_post.csv', index_col=False)\n",
    "sa_tweets_raw = pd.read_csv('../data/tweet_data/test_results.tsv', sep='\\t', names = [\"neg_prob\", \"neutral_prob\", \"pos_prob\"])\n",
    "sa_all_tweets['neg_prob'] = sa_tweets_raw.neg_prob\n",
    "sa_all_tweets['neutral_prob'] = sa_tweets_raw.neutral_prob\n",
    "sa_all_tweets['pos_prob'] = sa_tweets_raw.pos_prob\n",
    "\n",
    "all_tweets_cleaned = pd.read_csv('../data/tweet_data/all_tweets_cleaned.csv', index_col=False)\n",
    "\n",
    "\n"
   ]
  },
  {
   "cell_type": "code",
   "execution_count": 7,
   "metadata": {},
   "outputs": [],
   "source": [
    "# sa_all_tweets.loc[sa_all_tweets['pos_prob'] >= 0.9, 'sentiment'] = 4\n",
    "# sa_all_tweets.to_csv('../data/tweet_data/sa_all_tweets_post.csv', index=False)"
   ]
  },
  {
   "cell_type": "code",
   "execution_count": 161,
   "metadata": {},
   "outputs": [
    {
     "data": {
      "text/plain": [
       "0.0012331718"
      ]
     },
     "execution_count": 161,
     "metadata": {},
     "output_type": "execute_result"
    }
   ],
   "source": [
    "sa_all_tweets['neutral_prob'].max()"
   ]
  },
  {
   "cell_type": "code",
   "execution_count": 174,
   "metadata": {},
   "outputs": [
    {
     "name": "stdout",
     "output_type": "stream",
     "text": [
      "Bc despite being a good fundraiser, he had to spend down to compete in the primary, while Hogan comfortably sat on a $10M warchest & RGA hammered w attack ads. Its money. If hes fundraising hes not with average voters, exactly the position Hogan wants him in. To help, donate. \n",
      "\n",
      "4/ Gold Star Wives (even calling them his ladies\"), but hasn't even sponsored a bill that would help them to do something as simple as buy groceries or have access to healthcare in a timely fashion. Words can be cheap. When you haven't put action behind those words to prove..\" \n",
      "\n",
      "Nuestros hombres y mujeres en las fuerzas armadas arriesgan sus vidas todos los das para defender nuestras libertades. Debemos estar con ellos y sus familias mientras estn en el extranjero, y an ms cuando regresen a casa. #NVGov  \n",
      "\n",
      "Its time for sensible gun policy in America.  \n",
      "\n",
      "Our Critical Fundraising Deadline Is In 8 Days, And We Have 800,000 People To Reach Over T  #MAGA #TrumpTrain #idpol \n",
      "\n",
      "But men were still executed & for that patriarchal era that is huge. Please tell us you are not in favor of murdering Americans via a #GuiltyUntilProvenInnocent with no proof sideshow . @poloniumman  \n",
      "\n",
      "Whats the object of the action of allowing non-Catholic theologians to teach what the Church would consider heresy in theological foundation classes? \n",
      "\n",
      "We address not only Ann Kirkpatricks blatant lie but also Grijalvas secrets are beginning to spill!... \n",
      "\n",
      "Time to replace career politics with proven, hands-on experience. INS to CIA to successful author, support Burkhart for  MS-13 gang member who stabbed 15-year-old girl 13 times, sliced off tattoo, pleads guilty to murder  #FoxNews \n",
      "\n",
      "A Congressional Candidate's view of sensible gun legislation #Parkland #ParklandStrong #GunViolence  \n",
      "\n",
      "I want our country to get back to the days when it did bold projects and not just fool around the edges with grants, tax credits, and demonstration projects. We have an opportunity for Tennessee to lead the nation once again.  \n",
      "\n",
      "We need more of this and that is why we need to take back Arizona's 1st District from the high tax Democrats. #MAGA #TrumpBoom #TakeBackAZ01 \n",
      "\n",
      "Cabarrus County Board of Commissioners just approved legal action regarding the opioid crisis facing the county. #nc08 \n",
      "\n",
      "Cant be sure source is real or everything he said is true? ex, he is part of a group. Disgraceful NYT published an anon Op-ed bc its wishful thinking. An unelected RINO traitor thinks he knows whats best 4 country. @realDonaldTrump has the right to have loyal members on his staff \n",
      "\n",
      "Ohh now they surface \n",
      "\n",
      "Republicans typically turnout more voters in midterms. But this election, all hands on deck. Our economy and all the good is from 2 years of President Trump. President Obama didn't try in 8. Socialism does not work. Never has, never will! \n",
      "\n",
      "Long answer that is not true by @CongCulberson about his plan for health care in #TX07 debate. He claims he would guarantee no loss for people with pre-existing conditions - false. \n",
      "\n",
      "As CA Treasurer, I helped protect Californians against future attempts by Wells Fargo and other predatory banks to deny customers their right to have their day in court so that consumers could seek justice and receive full reparations. \n",
      "\n",
      "Instead of arming teachers, what do you think about giving students buckets of rocks? One Pennsylvania school district is trying that. \n",
      "\n",
      "Climate change is real and forecasted to impact future Winter Olympics. The Paris Agreement was a good start in the reduction of greenhouse gases. We must look at adding additional energy sources to help keep our energy supply/demand met. #LeederForTexas11  \n",
      "\n",
      "@RadioFreeTom Damn, can you get a few media outlets to open their articles with this Fact? \n",
      "\n",
      "The time to act is now  not tomorrow or next week  because if we keep talking about this without any actions then we are going to hear about another school shooting. And thats something that no American should have to life with. @DailyCaller @TheDC_Opinion #SchoolSafety  \n",
      "\n",
      "You two together = trouble.  \n",
      "\n",
      "Lucky \n",
      "\n",
      "CNN Tech sounds like a spoiled loser in this article. There are you happy Apple? You got your stupid tax cut.\" CNN: if the corp responsible for the tech we all enjoy so much was hoping for a tax cut, maybe you should have been cheerleading it all along. \" \n",
      "\n",
      "The GOP has no problem fleecing taxpayers when it comes to policies inspired by hate and #xenophobia #NoBanNoWall #CA45  \n",
      "\n",
      "Hey @RepDaveJoyce--know you don't spend much time in #OH14, but Columbus isn't actually in our district... \n",
      "\n",
      "Faso says he wants to use common sense\" in response to question about what he would do to address issues raised by the #MeToo movement. That's not enough. Delgado will be a strong advocate, stand up for women's rights and fight for equality.\" \n",
      "\n",
      "Well then, defund their operations! Congress wont be respected on this or any issue unless it exercises its constitutional powers.  \n",
      "\n",
      "I've written extensively on said mistakes including here...  \n",
      "\n",
      "To paraphrase a friend: the irony is that the Republicans in Congress all have a pre-existing condition. They lack spines.  \n",
      "\n",
      "Just a reminder of @SpeakerRyan position on fiscal policy during the Obama presidency. Where is fiscal discipline in this 2018 budget busting deal? #accountability   \n",
      "\n",
      "Clinton and Obama both cut taxes. \n",
      "\n",
      "Reading this and thinking of the 4th District residents in Jasper Co. Since the JC Hospital is run by the Franciscan Nuns. If this passes, your healthcare will be at the whims of the Catholic Church HHS readying new rule to expand 'conscience' protections \n",
      "\n",
      "The unending hypocrisy of the @GOP. Senate is voting on the #TaxScam as soon as today. Call (202) 224-3121 and tell your representative to vote NO. #nmpol #resist  \n",
      "\n",
      "Please, raising taxes is not the answer. How about we cut out the waste that is found throughout government entitlement programs? Btw, what did Obama do in 8 years to address infrastructure? #votejavi #MAGA \n",
      "\n",
      "Hurricane Katrina is now Bush's Maria.  \n",
      "\n",
      "In many areas, the incremental cost of renewable generation is currently less than the embedded cost of existing generation  \n",
      "\n",
      "It's a die in.\" They're representing dead children, not simulating sleepingin.\" \n",
      "\n",
      "3/The opioid crisis is as much an issue in Hamilton County as in Scioto. While I'm getting up to speed on the farm bill for our folks in Brown and the nuclear waste dump in Piketon. Reps are elected to listen to their constituents, which I fully intend to do to learn what's \n",
      "\n",
      "Freedom of the press in the United States is protected by the First Amendment to the United States Constitution. This amendment is generally understood to prevent the government from interfering with the distribution of information and opinions. #Va02  \n",
      "\n",
      "Creighton, what \n",
      "\n",
      "Certainly. That make take a day or so, though. I'll need help. \n",
      "\n",
      "Trump supporters ask not to be referred to as Nazi sex offender Putinbots but I guess that's too much to ask for. \n",
      "\n",
      "The bill is still being written, hours from a vote. This is no way to have a sensible debate on tax policy. Please contact @SenCoryGardner and ask him to #delay the #taxbill until we know what else is in it.  \n",
      "\n",
      "Our children need courage and leadership from Congress. We all deserve to live in safe communities without fear of the next needless mass shooting.  \n",
      "\n",
      "This article adds much to the debate, especially taking into account personal agency: Aziz Ansari Is Guilty. Of Not Being a Mind Reader.\"  \n",
      "\n",
      "Last week, 167 Democrats in the House of Representatives refused to vote for a resolution to support the heroes of ICE. These are brave and great men and women. Theyre in the trenches every day taking the fight straight to vicious gangs. #VoteRepublican @ICEgov \n",
      "\n",
      "While ruling against the Paul Pate Anti-Voter Law Judge Romano said that Pate's efforts to promote it substantially and directly interfere with Iowans' constitutional rights to vote. I say the guaranteed way to stop future voter suppression is to vote for @DeidreDeJear\" \n",
      "\n",
      "Randy has a clear plan to tackle the #opioidepidemic and it starts with declaring a State of Emergency and coordinating efforts with law enforcement and medical professionals #RuralTNForum \n",
      "\n",
      "RT @GOPChairwoman A family of 4 earning $75,000 will see an income tax cut of more than $2,000 under the GOP tax plan.  \n",
      "\n",
      "Context is important. Here's the missing context for this article:Recentering America to focus on the citizens should not be considered 'extreme,' but as of now it is.\" I'm starting to see why journalists have the rep they do.   \" \n",
      "\n",
      "That time Glenn Scott showed up to my ballot filing in moneybags drag. We're going to miss you, Glenn. Thanks for keeping us laughing, grounded, and brave when it's hard.  \n",
      "\n",
      "This campaign is for the hardworking people like Adi. Check out what happened to my uncle yesterday when he was on his way to meet me at the #democraticparty headquarters! #WeAreThe29th #forthepeople #roelforcongress  \n",
      "\n",
      "Saying you support education without saying how you'll fund it isn't really support at all. Just more of the same rhetoric that got us into this mess! Voters won't fall for it. #oklaed  \n",
      "\n",
      "I reject this strategy completely. Instead, our campaign is running ads that directly focus on the policies that will benefit Arkansans. Rural Broadband  Medicare For All  Postal Banking  \n",
      "\n",
      "Climate Change deniers lack the support of the American public. Americans believe that protecting our environment should be a top priority. We need leaders in DC who will put the future of our planet ahead of their political party. 83days, Vote. #CA48   \n",
      "\n",
      "Did they say that? \n",
      "\n",
      "The revamped trade agreement with Mexico is important for many reasons - chief and most lasting among them; Americans will never settle for shortsighted trade deals again. President Trump has forever changed that dynamic. \n",
      "\n",
      ". @realDonaldTrump ruined Thanksgiving for rural turkey farmers, through USDA deregulations, aimed at protecting big business. #HappyThanksgiving should be for all #TheResistance \n",
      "\n",
      "Help me unseat Takano in Nov!    \n",
      "\n",
      "My comments on how protecting farming is really national security issue (speaking at Finger Lakes Community College).  \n",
      "\n",
      "Your mental health matters. @kevinlove writes to reduce the stigma around seeking help. EVERYONE needs access to care. No matter what our circumstances, were all carrying around things that hurt  and they can hurt us if we keep them buried inside.\" \" \n",
      "\n",
      "Come on, Jeff. You checked the box score of the Marquette game and we all know it. Had you watched any @boilerball, theres no way you leave them out of your preseason rankings. We all lose here by not seeing a Nova-Purdue rematch from last year! Well chat soon, Im sure! \n",
      "\n",
      "#deploymenthair \n",
      "\n",
      "Different year, Troll. Different result. \n",
      "\n",
      "Our party tomorrow night is officially SOLD OUT! Can't wait to spend the evening with all 200+ friends as we work together to give #CA04 the representation it deserves!  \n",
      "\n",
      "I cannot too often repeat that Democracy is a word the real gist of which still sleeps, quite unawakened, notwithstanding the resonance and the many angry tempests out of which its syllables have come, from pen or tongue.\" - WW\" \n",
      "\n",
      "I take no pleasure in being correct that #SB4 created a broken taillights to broken families system of enforcement. We just need to keep working hard every day to fix our broken immigration system. Read more on the data @statesman   \n",
      "\n",
      "As for nuclear, it's growing in nations making long-term investments in their future \n",
      "\n",
      "Whats the over/under on #Trump imploding after #SOTU? 24hrs? 48hrs? \n",
      "\n",
      "Please see response from earlier. \n",
      "\n",
      "Nothing to see here: Two of worlds largest private yachts - both owned by Russian oligarchs - are scheduled to arrive in Palm Beach just as @realDonaldTrump arrives for Thanksgiving at #MarALago  \n",
      "\n",
      "Since Top Guns & Top Guns Training Academy offered a debate, but my opponent declined, I thought Id just stop in and talk with some folks. What I discovered  what I knew all along  is that were more alike than different. Not sure what he was so afraid of? \n",
      "\n",
      "Today, we honor and remember the more than 6 million Jews and others killed in the Holocaust. We must commit to reject all forms of racism, anti-Semitism, intolerance, violence, and hate. \n",
      "\n",
      "Oh geezus. There's always one. Have you heard of schools? They have physical education programs. Not all have pools, but most make you at least run or play dodgeball or square dance. \n",
      "\n",
      "Republicans are attempting to blame this potential goverment shut down on the Democrats! So lets analize this....  \n",
      "\n",
      "WWLHD? \n",
      "\n",
      "I was born in 1980. Moving through this economy as something this age has felt like a movie sequence where the bridge is collapsing behind you while you run. And it's like this because there are people deciding it should be like this.  \n",
      "\n",
      "So this you have time for, but not #TownHalls what gives? \n",
      "\n",
      "We must unify to stop the killings in our community. @KofiAdemola @GodNation2015 @blk_slv_master @BLMChi Rauner could care less about the Black Community.  \n",
      "\n",
      "These aren't partisan issues and if we run on them we can win an enact real reform. But if Democrats nominate someone who can't credibly make this case, that hurts us in trying to defeat Rauner! /answer #AskBissLessig \n",
      "\n",
      "Stop with your lies. The tax breaks you have given to millionaires and billionaires and their corporations have a whole lot to do with the deficit. You cant put that on the Democrats. \n",
      "\n",
      "SOS offices in Atlanta, Cartersville, Macon & Tifton are closed for Christmas. We will reopen on Wed., Dec. 27 from 8:00 AM to 5:30 PM.  bei Georgia State Capitol \n",
      "\n",
      "Remember when GOP called the Obamacare the job killing Affordable Care Act back in 2010? Ofcourse now we know it actually added 500,000 healthcare jobs. \n",
      "\n",
      "Hold on to your seats, folks. GOP is in a panic and resorting to fear-mongering to try to combat the #BlueWave. If this #racist ad is any indication of what to expect in the run-up to November, we're in for a rocky ride!  #ResistHate \n",
      "\n",
      "For every member of Congress who did nothing in response to Mark Foley, said nothing in response to Denny Hastert, did nothing in response to Roy Moore and is now actively helping Jim Jordan: you have lost any right to speak about morality.  \n",
      "\n",
      "Im in Kenmore for the Clean Air Coalition open meeting. FULL HOUSE. Were not going to take it! \n",
      "\n",
      "35. Meanwhile, in Outlaw's tenure as head of Portland's police department we may see a renewed local-federal effort on apprehending dangerous criminals rather than otherwise law-abiding undocumented immigrants. \n",
      "\n",
      "You shouldn't hold out too much hope. He never responds unless it's from the bootlickers lol. \n",
      "\n",
      "Much moral outrage out there--rightfully so; less certainty about how to direct the activist energy that is readily present. I believe that we are experiencing the Selma moment of this generation. History will judge us for our deeds. \n",
      "\n",
      "I can see the argument both ways on this, or at least how people on both sides believe they are doing the right thing. What it shows is we have fundamental contradictions in policy vs. labor exploitation. Working on my positions currently. \n",
      "\n",
      "Althea led a walkout at her high school for gun reform. I'm 16 and I can't vote yet. I'm asking you to vote for Gareth Rhodes, for me.\" cc: @MomsDemand @ShannonRWatts @Everytown @BradyBuzz #NY19 \n",
      "\n",
      "Hiking fees at National Parks puts visiting these special places out of reach for lower-income families. We need more programs like @GoParks 'Every Kid In A Park, which provides free access to 4th graders & their families & less waste by people like @SecretaryZinke.  \n",
      "\n",
      "the FBI estimates there are nearly 50,000 gang members right here in Atlanta and that number is growing.\"  #gapol #gagop #tcot\" \n",
      "\n",
      "Omaha's own oracle Warren Buffet admits that half of their annual profit was not earned this past year.   This tax bill does little to help American families but is great for corporations. Who would you rather see benefit from our tax code? #GOPTaxScam #NE02 \n",
      "\n",
      "oh snikes \n",
      "\n",
      "Los derechos de los votantes estn siendo restringidos basados en la tendencia, de uno u otro grupo para apoyar las posiciones del partido en el poder. #FlynnbroadyAlCongreso #cambiemoslanarrativa #OlaAzul  \n",
      "\n",
      "There are many differences between the Johnson/Bergstrom ticket and the Democrat candidates for governor...so, so many differences. #JoinTheFight2018 #mngov \n",
      "\n",
      "We must ensure no more supreme court justices like Gorsuch #TheResistance \n",
      "\n"
     ]
    }
   ],
   "source": [
    "for t in sa_all_tweets[(sa_all_tweets['neg_prob'] >= 0.65) & (sa_all_tweets['neg_prob'] < 0.7)].sample(100).stripped_text:\n",
    "    print(t, '\\n')\n",
    "    "
   ]
  },
  {
   "cell_type": "code",
   "execution_count": 74,
   "metadata": {},
   "outputs": [
    {
     "data": {
      "text/plain": [
       "Index(['candidate', 'twitter_handle', 'twitter_handle2', 'state', 'district',\n",
       "       'office_type', 'race_type', 'race_primary_election_date',\n",
       "       'primary_status', 'primary_runoff_status', 'general_status',\n",
       "       'partisan_lean', 'primary_pctg', 'won_primary', 'race', 'veteran',\n",
       "       'lgbtq', 'elected_official', 'self_funder', 'stem', 'obama_alum',\n",
       "       'dem_party_support', 'emily_endorsed', 'gun_sense_candidate',\n",
       "       'biden_endorsed', 'warren_endorsed', 'sanders_endorsed',\n",
       "       'our_revolution_endorsed', 'justice_dems_endorsed', 'pccc_endorsed',\n",
       "       'indivisible_endorsed', 'wfp_endorsed', 'votevets_endorsed',\n",
       "       'no_labels_support', 'has_twitter', 'num_endorsements',\n",
       "       'gun_control_tweet_count', 'health_care_tweet_count',\n",
       "       'abortion_tweet_count', 'immigration_tweet_count',\n",
       "       'kavanaugh_tweet_count', 'education_tweet_count', 'jobs_tweet_count',\n",
       "       'tax_tweet_count', 'fake_news_tweet_count', 'environment_tweet_count',\n",
       "       'sexual_assault_tweet_count', 'gender_tweet_count', 'women_tweet_count',\n",
       "       'lgbt_tweet_count', 'freedom_tweet_count', 'trump_tweet_count',\n",
       "       'num_tweets', 'count_negative', 'count_neutral', 'count_positive',\n",
       "       'sentiment'],\n",
       "      dtype='object')"
      ]
     },
     "execution_count": 74,
     "metadata": {},
     "output_type": "execute_result"
    }
   ],
   "source": [
    "dem_df.columns"
   ]
  },
  {
   "cell_type": "code",
   "execution_count": 73,
   "metadata": {},
   "outputs": [
    {
     "name": "stdout",
     "output_type": "stream",
     "text": [
      "Index(['state', 'county', 'fips', 'trump16', 'clinton16', 'otherpres16',\n",
      "       'romney12', 'obama12', 'otherpres12', 'demsen16', 'repsen16',\n",
      "       'othersen16', 'demhouse16', 'rephouse16', 'otherhouse16', 'demgov16',\n",
      "       'repgov16', 'othergov16', 'repgov14', 'demgov14', 'othergov14',\n",
      "       'total_population', 'cvap', 'white_pct', 'black_pct', 'hispanic_pct',\n",
      "       'nonwhite_pct', 'foreignborn_pct', 'female_pct', 'age29andunder_pct',\n",
      "       'age65andolder_pct', 'median_hh_inc', 'clf_unemploy_pct', 'lesshs_pct',\n",
      "       'lesscollege_pct', 'lesshs_whites_pct', 'lesscollege_whites_pct',\n",
      "       'rural_pct', 'ruralurban_cc'],\n",
      "      dtype='object')\n"
     ]
    },
    {
     "data": {
      "text/html": [
       "<div>\n",
       "<style scoped>\n",
       "    .dataframe tbody tr th:only-of-type {\n",
       "        vertical-align: middle;\n",
       "    }\n",
       "\n",
       "    .dataframe tbody tr th {\n",
       "        vertical-align: top;\n",
       "    }\n",
       "\n",
       "    .dataframe thead th {\n",
       "        text-align: right;\n",
       "    }\n",
       "</style>\n",
       "<table border=\"1\" class=\"dataframe\">\n",
       "  <thead>\n",
       "    <tr style=\"text-align: right;\">\n",
       "      <th></th>\n",
       "      <th>state</th>\n",
       "      <th>county</th>\n",
       "      <th>fips</th>\n",
       "      <th>trump16</th>\n",
       "      <th>clinton16</th>\n",
       "      <th>otherpres16</th>\n",
       "      <th>romney12</th>\n",
       "      <th>obama12</th>\n",
       "      <th>otherpres12</th>\n",
       "      <th>demsen16</th>\n",
       "      <th>...</th>\n",
       "      <th>age29andunder_pct</th>\n",
       "      <th>age65andolder_pct</th>\n",
       "      <th>median_hh_inc</th>\n",
       "      <th>clf_unemploy_pct</th>\n",
       "      <th>lesshs_pct</th>\n",
       "      <th>lesscollege_pct</th>\n",
       "      <th>lesshs_whites_pct</th>\n",
       "      <th>lesscollege_whites_pct</th>\n",
       "      <th>rural_pct</th>\n",
       "      <th>ruralurban_cc</th>\n",
       "    </tr>\n",
       "  </thead>\n",
       "  <tbody>\n",
       "    <tr>\n",
       "      <th>0</th>\n",
       "      <td>Alabama</td>\n",
       "      <td>Autauga</td>\n",
       "      <td>1001</td>\n",
       "      <td>18172</td>\n",
       "      <td>5936</td>\n",
       "      <td>865</td>\n",
       "      <td>17379</td>\n",
       "      <td>6363</td>\n",
       "      <td>190</td>\n",
       "      <td>6331.0</td>\n",
       "      <td>...</td>\n",
       "      <td>40.037058</td>\n",
       "      <td>13.978456</td>\n",
       "      <td>53099.0</td>\n",
       "      <td>5.591657</td>\n",
       "      <td>12.417046</td>\n",
       "      <td>75.407229</td>\n",
       "      <td>10.002112</td>\n",
       "      <td>74.065601</td>\n",
       "      <td>42.002162</td>\n",
       "      <td>2.0</td>\n",
       "    </tr>\n",
       "    <tr>\n",
       "      <th>1</th>\n",
       "      <td>Alabama</td>\n",
       "      <td>Baldwin</td>\n",
       "      <td>1003</td>\n",
       "      <td>72883</td>\n",
       "      <td>18458</td>\n",
       "      <td>3874</td>\n",
       "      <td>66016</td>\n",
       "      <td>18424</td>\n",
       "      <td>898</td>\n",
       "      <td>19145.0</td>\n",
       "      <td>...</td>\n",
       "      <td>35.474412</td>\n",
       "      <td>18.714851</td>\n",
       "      <td>51365.0</td>\n",
       "      <td>6.286843</td>\n",
       "      <td>9.972418</td>\n",
       "      <td>70.452889</td>\n",
       "      <td>7.842227</td>\n",
       "      <td>68.405607</td>\n",
       "      <td>42.279099</td>\n",
       "      <td>3.0</td>\n",
       "    </tr>\n",
       "    <tr>\n",
       "      <th>2</th>\n",
       "      <td>Alabama</td>\n",
       "      <td>Barbour</td>\n",
       "      <td>1005</td>\n",
       "      <td>5454</td>\n",
       "      <td>4871</td>\n",
       "      <td>144</td>\n",
       "      <td>5550</td>\n",
       "      <td>5912</td>\n",
       "      <td>47</td>\n",
       "      <td>4777.0</td>\n",
       "      <td>...</td>\n",
       "      <td>37.664387</td>\n",
       "      <td>16.528895</td>\n",
       "      <td>33956.0</td>\n",
       "      <td>12.824738</td>\n",
       "      <td>26.235928</td>\n",
       "      <td>87.132213</td>\n",
       "      <td>19.579752</td>\n",
       "      <td>81.364746</td>\n",
       "      <td>67.789635</td>\n",
       "      <td>6.0</td>\n",
       "    </tr>\n",
       "    <tr>\n",
       "      <th>3</th>\n",
       "      <td>Alabama</td>\n",
       "      <td>Bibb</td>\n",
       "      <td>1007</td>\n",
       "      <td>6738</td>\n",
       "      <td>1874</td>\n",
       "      <td>207</td>\n",
       "      <td>6132</td>\n",
       "      <td>2202</td>\n",
       "      <td>86</td>\n",
       "      <td>2082.0</td>\n",
       "      <td>...</td>\n",
       "      <td>37.329435</td>\n",
       "      <td>14.885699</td>\n",
       "      <td>39776.0</td>\n",
       "      <td>7.146827</td>\n",
       "      <td>19.301587</td>\n",
       "      <td>88.000000</td>\n",
       "      <td>15.020490</td>\n",
       "      <td>87.471774</td>\n",
       "      <td>68.352607</td>\n",
       "      <td>1.0</td>\n",
       "    </tr>\n",
       "    <tr>\n",
       "      <th>4</th>\n",
       "      <td>Alabama</td>\n",
       "      <td>Blount</td>\n",
       "      <td>1009</td>\n",
       "      <td>22859</td>\n",
       "      <td>2156</td>\n",
       "      <td>573</td>\n",
       "      <td>20757</td>\n",
       "      <td>2970</td>\n",
       "      <td>279</td>\n",
       "      <td>2980.0</td>\n",
       "      <td>...</td>\n",
       "      <td>37.240053</td>\n",
       "      <td>17.192916</td>\n",
       "      <td>46212.0</td>\n",
       "      <td>5.953833</td>\n",
       "      <td>19.968585</td>\n",
       "      <td>86.950243</td>\n",
       "      <td>16.643368</td>\n",
       "      <td>86.163610</td>\n",
       "      <td>89.951502</td>\n",
       "      <td>1.0</td>\n",
       "    </tr>\n",
       "  </tbody>\n",
       "</table>\n",
       "<p>5 rows × 39 columns</p>\n",
       "</div>"
      ],
      "text/plain": [
       "     state   county  fips  trump16  clinton16  otherpres16  romney12  obama12  \\\n",
       "0  Alabama  Autauga  1001    18172       5936          865     17379     6363   \n",
       "1  Alabama  Baldwin  1003    72883      18458         3874     66016    18424   \n",
       "2  Alabama  Barbour  1005     5454       4871          144      5550     5912   \n",
       "3  Alabama     Bibb  1007     6738       1874          207      6132     2202   \n",
       "4  Alabama   Blount  1009    22859       2156          573     20757     2970   \n",
       "\n",
       "   otherpres12  demsen16      ...        age29andunder_pct  age65andolder_pct  \\\n",
       "0          190    6331.0      ...                40.037058          13.978456   \n",
       "1          898   19145.0      ...                35.474412          18.714851   \n",
       "2           47    4777.0      ...                37.664387          16.528895   \n",
       "3           86    2082.0      ...                37.329435          14.885699   \n",
       "4          279    2980.0      ...                37.240053          17.192916   \n",
       "\n",
       "   median_hh_inc  clf_unemploy_pct  lesshs_pct  lesscollege_pct  \\\n",
       "0        53099.0          5.591657   12.417046        75.407229   \n",
       "1        51365.0          6.286843    9.972418        70.452889   \n",
       "2        33956.0         12.824738   26.235928        87.132213   \n",
       "3        39776.0          7.146827   19.301587        88.000000   \n",
       "4        46212.0          5.953833   19.968585        86.950243   \n",
       "\n",
       "   lesshs_whites_pct  lesscollege_whites_pct  rural_pct  ruralurban_cc  \n",
       "0          10.002112               74.065601  42.002162            2.0  \n",
       "1           7.842227               68.405607  42.279099            3.0  \n",
       "2          19.579752               81.364746  67.789635            6.0  \n",
       "3          15.020490               87.471774  68.352607            1.0  \n",
       "4          16.643368               86.163610  89.951502            1.0  \n",
       "\n",
       "[5 rows x 39 columns]"
      ]
     },
     "execution_count": 73,
     "metadata": {},
     "output_type": "execute_result"
    }
   ],
   "source": [
    "election_context = pd.read_csv('../data/election-context-2018.csv')\n",
    "print(election_context.columns)\n",
    "election_context.head(5)"
   ]
  },
  {
   "cell_type": "code",
   "execution_count": 52,
   "metadata": {},
   "outputs": [
    {
     "data": {
      "text/plain": [
       "array([  1094,   1095,   1096, ..., 557315, 557316, 557317])"
      ]
     },
     "execution_count": 52,
     "metadata": {},
     "output_type": "execute_result"
    }
   ],
   "source": [
    "# tweet ids of candidates who won\n",
    "candidate_winners = dem_df[dem_df['won_primary'] == 'Yes'].twitter_handle.append(rep_df[rep_df['won_primary'] == 'Yes'].twitter_handle)\n",
    "candidate_winners.append(dem_df[dem_df['won_primary'] == 'Yes'].twitter_handle2)\n",
    "candidate_winners.append(rep_df[rep_df['won_primary'] == 'Yes'].twitter_handle2)\n",
    "\n",
    "tweet_id_winners = tweets_with_topics[tweets_with_topics['twitter_handle'].isin(set(candidate_winners))].tweet_id.unique()\n",
    "# tweet_id_winners\n"
   ]
  },
  {
   "cell_type": "code",
   "execution_count": 3,
   "metadata": {},
   "outputs": [
    {
     "data": {
      "text/html": [
       "<div>\n",
       "<style scoped>\n",
       "    .dataframe tbody tr th:only-of-type {\n",
       "        vertical-align: middle;\n",
       "    }\n",
       "\n",
       "    .dataframe tbody tr th {\n",
       "        vertical-align: top;\n",
       "    }\n",
       "\n",
       "    .dataframe thead th {\n",
       "        text-align: right;\n",
       "    }\n",
       "</style>\n",
       "<table border=\"1\" class=\"dataframe\">\n",
       "  <thead>\n",
       "    <tr style=\"text-align: right;\">\n",
       "      <th></th>\n",
       "      <th>tweet_id</th>\n",
       "      <th>stripped_text</th>\n",
       "      <th>twitter_handle</th>\n",
       "      <th>sentiment</th>\n",
       "    </tr>\n",
       "  </thead>\n",
       "  <tbody>\n",
       "    <tr>\n",
       "      <th>0</th>\n",
       "      <td>0</td>\n",
       "      <td>With corruption being one of the biggest conce...</td>\n",
       "      <td>CA_Countryman</td>\n",
       "      <td>0</td>\n",
       "    </tr>\n",
       "    <tr>\n",
       "      <th>1</th>\n",
       "      <td>1</td>\n",
       "      <td>With corruption being one of the biggest conce...</td>\n",
       "      <td>CA_Countryman</td>\n",
       "      <td>0</td>\n",
       "    </tr>\n",
       "    <tr>\n",
       "      <th>2</th>\n",
       "      <td>2</td>\n",
       "      <td>Here is an important notice concerning Christo...</td>\n",
       "      <td>CA_Countryman</td>\n",
       "      <td>2</td>\n",
       "    </tr>\n",
       "  </tbody>\n",
       "</table>\n",
       "</div>"
      ],
      "text/plain": [
       "   tweet_id                                      stripped_text twitter_handle  \\\n",
       "0         0  With corruption being one of the biggest conce...  CA_Countryman   \n",
       "1         1  With corruption being one of the biggest conce...  CA_Countryman   \n",
       "2         2  Here is an important notice concerning Christo...  CA_Countryman   \n",
       "\n",
       "   sentiment  \n",
       "0          0  \n",
       "1          0  \n",
       "2          2  "
      ]
     },
     "execution_count": 3,
     "metadata": {},
     "output_type": "execute_result"
    }
   ],
   "source": [
    "sa_all_tweets.head(3)"
   ]
  },
  {
   "cell_type": "code",
   "execution_count": 163,
   "metadata": {},
   "outputs": [],
   "source": [
    "tweets_with_topics = tweets_with_topics.rename(index=str, columns={\"tweet_idx\": \"tweet_id\"})\n",
    "tweets_topic_sa = tweets_with_topics.merge(sa_all_tweets[['tweet_id', 'sentiment', 'neg_prob', 'neutral_prob', 'pos_prob']], on=['tweet_id'], how='left')\n"
   ]
  },
  {
   "cell_type": "code",
   "execution_count": 149,
   "metadata": {},
   "outputs": [
    {
     "name": "stdout",
     "output_type": "stream",
     "text": [
      "0\n",
      "557549\n",
      "557549\n",
      "609527\n"
     ]
    }
   ],
   "source": [
    "print(len(tweets_topic_sa[tweets_topic_sa['sentiment'].isna()]))\n",
    "print(len(tweets_topic_sa))\n",
    "print(len(tweets_with_topics))\n",
    "print(len(sa_all_tweets))"
   ]
  },
  {
   "cell_type": "code",
   "execution_count": 104,
   "metadata": {},
   "outputs": [
    {
     "name": "stdout",
     "output_type": "stream",
     "text": [
      "557549\n",
      "557549\n"
     ]
    }
   ],
   "source": [
    "print(len(all_tweets_cleaned))\n",
    "print(len(tweets_with_topics))"
   ]
  },
  {
   "cell_type": "code",
   "execution_count": 10,
   "metadata": {},
   "outputs": [
    {
     "data": {
      "text/plain": [
       "Index(['candidate', 'twitter_handle', 'twitter_handle2', 'state', 'district',\n",
       "       'office_type', 'race_type', 'race_primary_election_date',\n",
       "       'primary_status', 'primary_runoff_status', 'general_status',\n",
       "       'partisan_lean', 'primary_pctg', 'won_primary', 'race', 'veteran',\n",
       "       'lgbtq', 'elected_official', 'self_funder', 'stem', 'obama_alum',\n",
       "       'dem_party_support', 'emily_endorsed', 'gun_sense_candidate',\n",
       "       'biden_endorsed', 'warren_endorsed', 'sanders_endorsed',\n",
       "       'our_revolution_endorsed', 'justice_dems_endorsed', 'pccc_endorsed',\n",
       "       'indivisible_endorsed', 'wfp_endorsed', 'votevets_endorsed',\n",
       "       'no_labels_support', 'has_twitter', 'num_endorsements',\n",
       "       'gun_control_tweet_count', 'health_care_tweet_count',\n",
       "       'abortion_tweet_count', 'immigration_tweet_count',\n",
       "       'kavanaugh_tweet_count', 'education_tweet_count', 'jobs_tweet_count',\n",
       "       'tax_tweet_count', 'fake_news_tweet_count', 'environment_tweet_count',\n",
       "       'sexual_assault_tweet_count', 'gender_tweet_count', 'women_tweet_count',\n",
       "       'lgbt_tweet_count', 'freedom_tweet_count', 'trump_tweet_count',\n",
       "       'num_tweets', 'count_negative', 'count_neutral', 'count_positive',\n",
       "       'sentiment'],\n",
       "      dtype='object')"
      ]
     },
     "execution_count": 10,
     "metadata": {},
     "output_type": "execute_result"
    }
   ],
   "source": [
    "dem_df.columns"
   ]
  },
  {
   "cell_type": "code",
   "execution_count": 11,
   "metadata": {},
   "outputs": [],
   "source": [
    "# # Add 'party' column to tweets with topics\n",
    "\n",
    "# tweets_with_topics = tweets_with_topics.merge(all_tweets_cleaned[['tweet_idx', 'twitter_handle']], how='left', on=['tweet_idx'])\n",
    "                                                                                         \n",
    "# dem_candidates = dem_df.twitter_handle.unique()\n",
    "# dem_candidates2 = dem_df.twitter_handle2.unique()\n",
    "\n",
    "# party = []\n",
    "# for i, r in tweets_with_topics.iterrows():\n",
    "#     if i % 20000 == 0:\n",
    "#         print('{} / {}'.format(i, len(tweets_with_topics)))\n",
    "#     if r['twitter_handle'] in dem_candidates or r['twitter_handle'] in dem_candidates2:\n",
    "#         party.append(0)\n",
    "#     else:\n",
    "#         party.append(1)\n",
    "# tweets_with_topics['party'] = party\n",
    "\n",
    "# tweets_with_topics.to_csv('../data/tweet_data/tweets_with_topics_post.csv', index=False)\n"
   ]
  },
  {
   "cell_type": "code",
   "execution_count": 12,
   "metadata": {},
   "outputs": [],
   "source": [
    "topics = ['gun_control', 'health_care',\n",
    "       'abortion', 'immigration', 'education', 'jobs'\n",
    "          , 'environment','women', 'lgbt', 'freedom', 'trump']\n",
    "topic_cols = ['{}_tweet_count'.format(t) for t in topics]"
   ]
  },
  {
   "cell_type": "code",
   "execution_count": 13,
   "metadata": {},
   "outputs": [
    {
     "name": "stdout",
     "output_type": "stream",
     "text": [
      "dem candidates w/ no classified topics:  0.22685788787483702\n",
      "rep candidates w/ no classified topics:  0.4287769784172662\n"
     ]
    }
   ],
   "source": [
    "print(\"dem candidates w/ no classified topics: \", len(dem_df[(dem_df['gun_control_tweet_count'] == 0) & \n",
    "          (dem_df['health_care_tweet_count'] == 0) &\n",
    "          (dem_df['abortion_tweet_count'] == 0) &\n",
    "          (dem_df['immigration_tweet_count'] == 0) &\n",
    "          (dem_df['education_tweet_count'] == 0) &\n",
    "          (dem_df['jobs_tweet_count'] == 0) &\n",
    "          (dem_df['environment_tweet_count'] == 0) &\n",
    "          (dem_df['women_tweet_count'] == 0) &\n",
    "          (dem_df['lgbt_tweet_count'] == 0) &\n",
    "          (dem_df['freedom_tweet_count'] == 0) & (dem_df['trump_tweet_count'] == 0)]) / len(dem_df))\n",
    "\n",
    "print(\"rep candidates w/ no classified topics: \", len(rep_df[(rep_df['gun_control_tweet_count'] == 0) & \n",
    "          (rep_df['health_care_tweet_count'] == 0) &\n",
    "          (rep_df['abortion_tweet_count'] == 0) &\n",
    "          (rep_df['immigration_tweet_count'] == 0) &\n",
    "          (rep_df['education_tweet_count'] == 0) &\n",
    "          (rep_df['jobs_tweet_count'] == 0) &\n",
    "          (rep_df['environment_tweet_count'] == 0) &\n",
    "          (rep_df['women_tweet_count'] == 0) &\n",
    "          (rep_df['lgbt_tweet_count'] == 0) &\n",
    "          (rep_df['freedom_tweet_count'] == 0) & (rep_df['trump_tweet_count'] == 0)]) / len(rep_df))"
   ]
  },
  {
   "cell_type": "code",
   "execution_count": 14,
   "metadata": {},
   "outputs": [],
   "source": [
    "def get_topic_df(candidate_df, party):\n",
    "    max_count_col = []\n",
    "    median_count_col = []\n",
    "    avg_count_col = []\n",
    "    total_classified_col = []\n",
    "    \n",
    "    for t in topics:\n",
    "        topic_count = len(tweets_with_topics[(tweets_with_topics[t] == 1) & (tweets_with_topics['party'] == party)])\n",
    "        max_count = candidate_df[\"{}_tweet_count\".format(t)].max()\n",
    "        avg_count = candidate_df[\"{}_tweet_count\".format(t)].mean()\n",
    "        max_count_col.append(max_count)\n",
    "        avg_count_col.append(round(avg_count, 2))\n",
    "        total_classified_col.append(topic_count)\n",
    "    df = pd.DataFrame(np.transpose([topics,avg_count_col, max_count_col, total_classified_col])\n",
    "             , columns=['topic', 'avg_count', 'max_count', 'total_classified'])\n",
    "    df['max_count'] = df['max_count'].astype('int32')\n",
    "    df['total_classified'] = df['total_classified'].astype('int32')\n",
    "    return df\n",
    "    \n",
    "dem_topic_df = get_topic_df(dem_df, 0)\n",
    "rep_topic_df = get_topic_df(rep_df, 1)"
   ]
  },
  {
   "cell_type": "code",
   "execution_count": 15,
   "metadata": {},
   "outputs": [
    {
     "name": "stdout",
     "output_type": "stream",
     "text": [
      "total tweets:  381881\n"
     ]
    },
    {
     "data": {
      "text/html": [
       "<div>\n",
       "<style scoped>\n",
       "    .dataframe tbody tr th:only-of-type {\n",
       "        vertical-align: middle;\n",
       "    }\n",
       "\n",
       "    .dataframe tbody tr th {\n",
       "        vertical-align: top;\n",
       "    }\n",
       "\n",
       "    .dataframe thead th {\n",
       "        text-align: right;\n",
       "    }\n",
       "</style>\n",
       "<table border=\"1\" class=\"dataframe\">\n",
       "  <thead>\n",
       "    <tr style=\"text-align: right;\">\n",
       "      <th></th>\n",
       "      <th>topic</th>\n",
       "      <th>avg_count</th>\n",
       "      <th>max_count</th>\n",
       "      <th>total_classified</th>\n",
       "    </tr>\n",
       "  </thead>\n",
       "  <tbody>\n",
       "    <tr>\n",
       "      <th>0</th>\n",
       "      <td>trump</td>\n",
       "      <td>28.24</td>\n",
       "      <td>554</td>\n",
       "      <td>21582</td>\n",
       "    </tr>\n",
       "    <tr>\n",
       "      <th>1</th>\n",
       "      <td>health_care</td>\n",
       "      <td>23.49</td>\n",
       "      <td>343</td>\n",
       "      <td>17831</td>\n",
       "    </tr>\n",
       "    <tr>\n",
       "      <th>2</th>\n",
       "      <td>gun_control</td>\n",
       "      <td>15.01</td>\n",
       "      <td>352</td>\n",
       "      <td>11455</td>\n",
       "    </tr>\n",
       "    <tr>\n",
       "      <th>3</th>\n",
       "      <td>jobs</td>\n",
       "      <td>13.25</td>\n",
       "      <td>157</td>\n",
       "      <td>10071</td>\n",
       "    </tr>\n",
       "    <tr>\n",
       "      <th>4</th>\n",
       "      <td>education</td>\n",
       "      <td>9.55</td>\n",
       "      <td>192</td>\n",
       "      <td>7292</td>\n",
       "    </tr>\n",
       "    <tr>\n",
       "      <th>5</th>\n",
       "      <td>environment</td>\n",
       "      <td>7.65</td>\n",
       "      <td>1026</td>\n",
       "      <td>5855</td>\n",
       "    </tr>\n",
       "    <tr>\n",
       "      <th>6</th>\n",
       "      <td>immigration</td>\n",
       "      <td>7.04</td>\n",
       "      <td>192</td>\n",
       "      <td>5379</td>\n",
       "    </tr>\n",
       "    <tr>\n",
       "      <th>7</th>\n",
       "      <td>lgbt</td>\n",
       "      <td>2.39</td>\n",
       "      <td>64</td>\n",
       "      <td>1826</td>\n",
       "    </tr>\n",
       "    <tr>\n",
       "      <th>8</th>\n",
       "      <td>freedom</td>\n",
       "      <td>2.16</td>\n",
       "      <td>55</td>\n",
       "      <td>1651</td>\n",
       "    </tr>\n",
       "    <tr>\n",
       "      <th>9</th>\n",
       "      <td>women</td>\n",
       "      <td>2.03</td>\n",
       "      <td>59</td>\n",
       "      <td>1548</td>\n",
       "    </tr>\n",
       "    <tr>\n",
       "      <th>10</th>\n",
       "      <td>abortion</td>\n",
       "      <td>1.93</td>\n",
       "      <td>74</td>\n",
       "      <td>1474</td>\n",
       "    </tr>\n",
       "  </tbody>\n",
       "</table>\n",
       "</div>"
      ],
      "text/plain": [
       "          topic avg_count  max_count  total_classified\n",
       "0         trump     28.24        554             21582\n",
       "1   health_care     23.49        343             17831\n",
       "2   gun_control     15.01        352             11455\n",
       "3          jobs     13.25        157             10071\n",
       "4     education      9.55        192              7292\n",
       "5   environment      7.65       1026              5855\n",
       "6   immigration      7.04        192              5379\n",
       "7          lgbt      2.39         64              1826\n",
       "8       freedom      2.16         55              1651\n",
       "9         women      2.03         59              1548\n",
       "10     abortion      1.93         74              1474"
      ]
     },
     "execution_count": 15,
     "metadata": {},
     "output_type": "execute_result"
    }
   ],
   "source": [
    "print(\"total tweets: \",len(tweets_with_topics[tweets_with_topics['party'] == 0]))\n",
    "dem_topic_df.sort_values(by=['total_classified'], ascending=False).reset_index(drop=True)"
   ]
  },
  {
   "cell_type": "code",
   "execution_count": 16,
   "metadata": {},
   "outputs": [
    {
     "name": "stdout",
     "output_type": "stream",
     "text": [
      "total tweets:  175668\n"
     ]
    },
    {
     "data": {
      "text/html": [
       "<div>\n",
       "<style scoped>\n",
       "    .dataframe tbody tr th:only-of-type {\n",
       "        vertical-align: middle;\n",
       "    }\n",
       "\n",
       "    .dataframe tbody tr th {\n",
       "        vertical-align: top;\n",
       "    }\n",
       "\n",
       "    .dataframe thead th {\n",
       "        text-align: right;\n",
       "    }\n",
       "</style>\n",
       "<table border=\"1\" class=\"dataframe\">\n",
       "  <thead>\n",
       "    <tr style=\"text-align: right;\">\n",
       "      <th></th>\n",
       "      <th>topic</th>\n",
       "      <th>avg_count</th>\n",
       "      <th>max_count</th>\n",
       "      <th>total_classified</th>\n",
       "    </tr>\n",
       "  </thead>\n",
       "  <tbody>\n",
       "    <tr>\n",
       "      <th>0</th>\n",
       "      <td>trump</td>\n",
       "      <td>19.53</td>\n",
       "      <td>1015</td>\n",
       "      <td>13818</td>\n",
       "    </tr>\n",
       "    <tr>\n",
       "      <th>1</th>\n",
       "      <td>immigration</td>\n",
       "      <td>6.15</td>\n",
       "      <td>324</td>\n",
       "      <td>4339</td>\n",
       "    </tr>\n",
       "    <tr>\n",
       "      <th>2</th>\n",
       "      <td>jobs</td>\n",
       "      <td>5.74</td>\n",
       "      <td>200</td>\n",
       "      <td>4124</td>\n",
       "    </tr>\n",
       "    <tr>\n",
       "      <th>3</th>\n",
       "      <td>gun_control</td>\n",
       "      <td>4.23</td>\n",
       "      <td>254</td>\n",
       "      <td>3086</td>\n",
       "    </tr>\n",
       "    <tr>\n",
       "      <th>4</th>\n",
       "      <td>health_care</td>\n",
       "      <td>3.77</td>\n",
       "      <td>473</td>\n",
       "      <td>2956</td>\n",
       "    </tr>\n",
       "    <tr>\n",
       "      <th>5</th>\n",
       "      <td>freedom</td>\n",
       "      <td>3.48</td>\n",
       "      <td>276</td>\n",
       "      <td>2418</td>\n",
       "    </tr>\n",
       "    <tr>\n",
       "      <th>6</th>\n",
       "      <td>education</td>\n",
       "      <td>2.47</td>\n",
       "      <td>83</td>\n",
       "      <td>1738</td>\n",
       "    </tr>\n",
       "    <tr>\n",
       "      <th>7</th>\n",
       "      <td>abortion</td>\n",
       "      <td>1.96</td>\n",
       "      <td>75</td>\n",
       "      <td>1405</td>\n",
       "    </tr>\n",
       "    <tr>\n",
       "      <th>8</th>\n",
       "      <td>environment</td>\n",
       "      <td>0.56</td>\n",
       "      <td>33</td>\n",
       "      <td>435</td>\n",
       "    </tr>\n",
       "    <tr>\n",
       "      <th>9</th>\n",
       "      <td>women</td>\n",
       "      <td>0.21</td>\n",
       "      <td>10</td>\n",
       "      <td>157</td>\n",
       "    </tr>\n",
       "    <tr>\n",
       "      <th>10</th>\n",
       "      <td>lgbt</td>\n",
       "      <td>0.08</td>\n",
       "      <td>6</td>\n",
       "      <td>74</td>\n",
       "    </tr>\n",
       "  </tbody>\n",
       "</table>\n",
       "</div>"
      ],
      "text/plain": [
       "          topic avg_count  max_count  total_classified\n",
       "0         trump     19.53       1015             13818\n",
       "1   immigration      6.15        324              4339\n",
       "2          jobs      5.74        200              4124\n",
       "3   gun_control      4.23        254              3086\n",
       "4   health_care      3.77        473              2956\n",
       "5       freedom      3.48        276              2418\n",
       "6     education      2.47         83              1738\n",
       "7      abortion      1.96         75              1405\n",
       "8   environment      0.56         33               435\n",
       "9         women      0.21         10               157\n",
       "10         lgbt      0.08          6                74"
      ]
     },
     "execution_count": 16,
     "metadata": {},
     "output_type": "execute_result"
    }
   ],
   "source": [
    "print(\"total tweets: \", len(tweets_with_topics[tweets_with_topics['party'] == 1]))\n",
    "rep_topic_df.sort_values(by=['total_classified'], ascending=False).reset_index(drop=True)"
   ]
  },
  {
   "cell_type": "code",
   "execution_count": 150,
   "metadata": {},
   "outputs": [
    {
     "data": {
      "text/plain": [
       "<matplotlib.collections.PathCollection at 0x12106fe10>"
      ]
     },
     "execution_count": 150,
     "metadata": {},
     "output_type": "execute_result"
    },
    {
     "data": {
      "image/png": "[encoded data removed]",
      "text/plain": [
       "<Figure size 432x288 with 1 Axes>"
      ]
     },
     "metadata": {},
     "output_type": "display_data"
    }
   ],
   "source": [
    "fig, axs = plt.subplots(1)\n",
    "axs.scatter(rep_df['sentiment'], rep_df['immigration_tweet_count'])"
   ]
  },
  {
   "cell_type": "code",
   "execution_count": null,
   "metadata": {},
   "outputs": [],
   "source": []
  },
  {
   "cell_type": "code",
   "execution_count": 151,
   "metadata": {},
   "outputs": [
    {
     "data": {
      "text/plain": [
       "Index(['tweet_id', 'stripped_text', 'party', 'gun_control', 'health_care',\n",
       "       'abortion', 'immigration', 'kavanaugh', 'education', 'jobs', 'tax',\n",
       "       'fake_news', 'environment', 'sexual_assault', 'gender', 'women', 'lgbt',\n",
       "       'freedom', 'trump', 'twitter_handle'],\n",
       "      dtype='object')"
      ]
     },
     "execution_count": 151,
     "metadata": {},
     "output_type": "execute_result"
    }
   ],
   "source": [
    "tweets_with_topics.columns"
   ]
  },
  {
   "cell_type": "code",
   "execution_count": 164,
   "metadata": {},
   "outputs": [
    {
     "data": {
      "text/plain": [
       "(array([ 844.,    0., 1478.,    0., 2017.]),\n",
       " array([0, 1, 2, 3, 4, 5]),\n",
       " <a list of 5 Patch objects>)"
      ]
     },
     "execution_count": 164,
     "metadata": {},
     "output_type": "execute_result"
    },
    {
     "data": {
      "image/png": "[encoded data removed]",
      "text/plain": [
       "<Figure size 432x288 with 1 Axes>"
      ]
     },
     "metadata": {},
     "output_type": "display_data"
    }
   ],
   "source": [
    "fig, axs = plt.subplots(1)\n",
    "rep = tweets_topic_sa[(tweets_topic_sa['immigration'] == 1) & tweets_topic_sa['party'] == 1].sentiment\n",
    "axs.hist(rep, bins=[0, 1, 2, 3, 4, 5])"
   ]
  },
  {
   "cell_type": "code",
   "execution_count": 153,
   "metadata": {},
   "outputs": [
    {
     "data": {
      "text/html": [
       "<div>\n",
       "<style scoped>\n",
       "    .dataframe tbody tr th:only-of-type {\n",
       "        vertical-align: middle;\n",
       "    }\n",
       "\n",
       "    .dataframe tbody tr th {\n",
       "        vertical-align: top;\n",
       "    }\n",
       "\n",
       "    .dataframe thead th {\n",
       "        text-align: right;\n",
       "    }\n",
       "</style>\n",
       "<table border=\"1\" class=\"dataframe\">\n",
       "  <thead>\n",
       "    <tr style=\"text-align: right;\">\n",
       "      <th></th>\n",
       "      <th>tweet_id</th>\n",
       "      <th>stripped_text</th>\n",
       "      <th>party</th>\n",
       "      <th>gun_control</th>\n",
       "      <th>health_care</th>\n",
       "      <th>abortion</th>\n",
       "      <th>immigration</th>\n",
       "      <th>kavanaugh</th>\n",
       "      <th>education</th>\n",
       "      <th>jobs</th>\n",
       "      <th>...</th>\n",
       "      <th>gender</th>\n",
       "      <th>women</th>\n",
       "      <th>lgbt</th>\n",
       "      <th>freedom</th>\n",
       "      <th>trump</th>\n",
       "      <th>twitter_handle</th>\n",
       "      <th>sentiment</th>\n",
       "      <th>neg_prob</th>\n",
       "      <th>neutral_prob</th>\n",
       "      <th>pos_prob</th>\n",
       "    </tr>\n",
       "  </thead>\n",
       "  <tbody>\n",
       "    <tr>\n",
       "      <th>0</th>\n",
       "      <td>0</td>\n",
       "      <td>with corruption being one of the biggest conce...</td>\n",
       "      <td>0</td>\n",
       "      <td>False</td>\n",
       "      <td>0</td>\n",
       "      <td>0</td>\n",
       "      <td>0</td>\n",
       "      <td>0</td>\n",
       "      <td>0</td>\n",
       "      <td>0</td>\n",
       "      <td>...</td>\n",
       "      <td>False</td>\n",
       "      <td>False</td>\n",
       "      <td>0</td>\n",
       "      <td>0</td>\n",
       "      <td>0</td>\n",
       "      <td>CA_Countryman</td>\n",
       "      <td>0</td>\n",
       "      <td>0.719503</td>\n",
       "      <td>6.849774e-08</td>\n",
       "      <td>0.280497</td>\n",
       "    </tr>\n",
       "    <tr>\n",
       "      <th>1</th>\n",
       "      <td>1</td>\n",
       "      <td>with corruption being one of the biggest conce...</td>\n",
       "      <td>0</td>\n",
       "      <td>False</td>\n",
       "      <td>0</td>\n",
       "      <td>0</td>\n",
       "      <td>0</td>\n",
       "      <td>0</td>\n",
       "      <td>0</td>\n",
       "      <td>0</td>\n",
       "      <td>...</td>\n",
       "      <td>False</td>\n",
       "      <td>False</td>\n",
       "      <td>0</td>\n",
       "      <td>0</td>\n",
       "      <td>0</td>\n",
       "      <td>CA_Countryman</td>\n",
       "      <td>0</td>\n",
       "      <td>0.761665</td>\n",
       "      <td>4.084816e-08</td>\n",
       "      <td>0.238335</td>\n",
       "    </tr>\n",
       "    <tr>\n",
       "      <th>2</th>\n",
       "      <td>2</td>\n",
       "      <td>here is an important notice concerning christo...</td>\n",
       "      <td>0</td>\n",
       "      <td>False</td>\n",
       "      <td>0</td>\n",
       "      <td>0</td>\n",
       "      <td>0</td>\n",
       "      <td>0</td>\n",
       "      <td>0</td>\n",
       "      <td>0</td>\n",
       "      <td>...</td>\n",
       "      <td>False</td>\n",
       "      <td>False</td>\n",
       "      <td>0</td>\n",
       "      <td>0</td>\n",
       "      <td>0</td>\n",
       "      <td>CA_Countryman</td>\n",
       "      <td>2</td>\n",
       "      <td>0.684472</td>\n",
       "      <td>4.112755e-07</td>\n",
       "      <td>0.315528</td>\n",
       "    </tr>\n",
       "  </tbody>\n",
       "</table>\n",
       "<p>3 rows × 24 columns</p>\n",
       "</div>"
      ],
      "text/plain": [
       "   tweet_id                                      stripped_text  party  \\\n",
       "0         0  with corruption being one of the biggest conce...      0   \n",
       "1         1  with corruption being one of the biggest conce...      0   \n",
       "2         2  here is an important notice concerning christo...      0   \n",
       "\n",
       "   gun_control  health_care  abortion  immigration  kavanaugh  education  \\\n",
       "0        False            0         0            0          0          0   \n",
       "1        False            0         0            0          0          0   \n",
       "2        False            0         0            0          0          0   \n",
       "\n",
       "   jobs    ...     gender  women  lgbt  freedom  trump  twitter_handle  \\\n",
       "0     0    ...      False  False     0        0      0   CA_Countryman   \n",
       "1     0    ...      False  False     0        0      0   CA_Countryman   \n",
       "2     0    ...      False  False     0        0      0   CA_Countryman   \n",
       "\n",
       "   sentiment  neg_prob  neutral_prob  pos_prob  \n",
       "0          0  0.719503  6.849774e-08  0.280497  \n",
       "1          0  0.761665  4.084816e-08  0.238335  \n",
       "2          2  0.684472  4.112755e-07  0.315528  \n",
       "\n",
       "[3 rows x 24 columns]"
      ]
     },
     "execution_count": 153,
     "metadata": {},
     "output_type": "execute_result"
    }
   ],
   "source": [
    "tweets_topic_sa.head(3)"
   ]
  },
  {
   "cell_type": "markdown",
   "metadata": {},
   "source": [
    "### Sentiment Ratios"
   ]
  },
  {
   "cell_type": "code",
   "execution_count": 165,
   "metadata": {},
   "outputs": [
    {
     "name": "stdout",
     "output_type": "stream",
     "text": [
      "205363\n",
      "60657\n",
      "205363\n",
      "[  1094   1095   1096 ... 557315 557316 557317]\n"
     ]
    }
   ],
   "source": [
    "print(len(tweet_id_winners))\n",
    "print(len(rep_winners))\n",
    "print(len(tweets_topic_sa[tweets_topic_sa['tweet_id'].isin(set(tweet_id_winners))]))\n",
    "print(tweet_id_winners)"
   ]
  },
  {
   "cell_type": "code",
   "execution_count": 166,
   "metadata": {},
   "outputs": [
    {
     "name": "stdout",
     "output_type": "stream",
     "text": [
      "num rep tweets:  175668\n",
      "60657\n",
      "num dem tweets:  381881\n"
     ]
    },
    {
     "data": {
      "text/plain": [
       "(-1.127686682723835,\n",
       " 1.1075149597370406,\n",
       " -1.1296921940855285,\n",
       " 1.1014139140040728)"
      ]
     },
     "execution_count": 166,
     "metadata": {},
     "output_type": "execute_result"
    },
    {
     "data": {
      "image/png": "[encoded data removed]",
      "text/plain": [
       "<Figure size 1080x288 with 4 Axes>"
      ]
     },
     "metadata": {},
     "output_type": "display_data"
    }
   ],
   "source": [
    "# All Candidates\n",
    "rep = tweets_topic_sa[tweets_topic_sa['party'] == 1]\n",
    "dem = tweets_topic_sa[tweets_topic_sa['party'] == 0]\n",
    "rep_winners = tweets_topic_sa[(tweets_topic_sa['party'] == 1) & (tweets_topic_sa['tweet_id'].isin(tweet_id_winners))]\n",
    "dem_winners = tweets_topic_sa[(tweets_topic_sa['party'] == 0) & (tweets_topic_sa['tweet_id'].isin(tweet_id_winners))]\n",
    "rep_losers = tweets_topic_sa[(tweets_topic_sa['party'] == 1) & (~tweets_topic_sa['tweet_id'].isin(tweet_id_winners))]\n",
    "\n",
    "print(\"num rep tweets: \", len(rep))\n",
    "print(len(rep_winners))\n",
    "print(\"num dem tweets: \", len(dem))\n",
    "\n",
    "dem_nums = [len(dem[dem['sentiment'] == 0]), len(dem[dem['sentiment'] == 4]), len(dem[dem['sentiment'] == 2])]\n",
    "rep_nums = [len(rep[rep['sentiment'] == 0]), len(rep[rep['sentiment'] == 4]), len(rep[rep['sentiment'] == 2])]\n",
    "rep_winners_nums = [len(rep_winners[rep_winners['sentiment'] == 0]), len(rep_winners[rep_winners['sentiment'] == 4]), len(rep_winners[rep_winners['sentiment'] == 2])]\n",
    "rep_losers_nums = [len(rep_losers[rep_losers['sentiment'] == 0]), len(rep_losers[rep_losers['sentiment'] == 4]), len(rep_losers[rep_losers['sentiment'] == 2])]\n",
    "\n",
    "\n",
    "labels = ['negative', 'positive', 'neutral']\n",
    "f, axs = plt.subplots(1,4,figsize=(15,4))\n",
    "axs[0].pie(dem_nums, labels=labels, autopct='%1.1f%%',\n",
    "        shadow=True, startangle=90)\n",
    "axs[0].set_title(\"democratic sentiment ratios\")\n",
    "axs[0].axis('equal')\n",
    "axs[1].pie(rep_nums, labels=labels, autopct='%1.1f%%',\n",
    "        shadow=True, startangle=90)\n",
    "axs[1].set_title(\"republican sentiment ratios\")\n",
    "axs[1].axis('equal')\n",
    "\n",
    "axs[2].pie(rep_winners_nums, labels=labels, autopct='%1.1f%%',\n",
    "        shadow=True, startangle=90)\n",
    "axs[2].set_title(\"republican winners sentiment ratios\")\n",
    "axs[2].axis('equal')\n",
    "\n",
    "axs[3].pie(rep_losers_nums, labels=labels, autopct='%1.1f%%',\n",
    "        shadow=True, startangle=90)\n",
    "axs[3].set_title(\"rep loser sentiment ratios\")\n",
    "axs[3].axis('equal')\n",
    "\n"
   ]
  },
  {
   "cell_type": "code",
   "execution_count": 167,
   "metadata": {},
   "outputs": [],
   "source": [
    "def print_sentiment_breakdown(tweets_topic_sa, topic):\n",
    "    print(\"== democratic ratios == \")\n",
    "    rep = tweets_topic_sa[(tweets_topic_sa[topic] == 1) & tweets_topic_sa['party'] == 1]\n",
    "    dem = tweets_topic_sa[(tweets_topic_sa[topic] == 1) & tweets_topic_sa['party'] == 0]\n",
    "    print(\"negative sentiment: \", len(dem[dem['sentiment'] == 0]) / len(dem))\n",
    "    print(\"positive sentiment: \", len(dem[dem['sentiment'] == 4]) / len(dem))\n",
    "    print(\"neutral sentiment: \", len(dem[dem['sentiment'] == 2]) / len(dem))\n",
    "\n",
    "    print(\"\\n== republican ratios == \")\n",
    "    print(\"negative sentiment: \", len(rep[rep['sentiment'] == 0]) / len(rep))\n",
    "    print(\"positive sentiment: \", len(rep[rep['sentiment'] == 4]) / len(rep))\n",
    "    print(\"neutral sentiment: \", len(rep[rep['sentiment'] == 2]) / len(rep))\n",
    "\n",
    "def plot_topic(topic):\n",
    "    print(topic)\n",
    "    f, axs = plt.subplots(1,2,figsize=(15,4))\n",
    "    rep = tweets_topic_sa[(tweets_topic_sa[topic] == 1) & tweets_topic_sa['party'] == 1]\n",
    "    dem = tweets_topic_sa[(tweets_topic_sa[topic] == 1) & tweets_topic_sa['party'] == 0]\n",
    "\n",
    "    axs[0].hist(dem.sentiment, color='blue', bins=[0, 1, 2, 3, 4, 5])\n",
    "    axs[0].set_title(\"democratic - {}\".format(topic))\n",
    "    axs[1].hist(rep.sentiment, color='red', bins=[0, 1, 2, 3, 4, 5])\n",
    "    axs[1].set_title(\"republican - {}\".format(topic))\n",
    "    print_sentiment_breakdown(tweets_topic_sa, topic)\n",
    "    return dem, rep"
   ]
  },
  {
   "cell_type": "code",
   "execution_count": 168,
   "metadata": {},
   "outputs": [
    {
     "name": "stdout",
     "output_type": "stream",
     "text": [
      "4158\n",
      "17831\n",
      "0.23318938926588526\n"
     ]
    }
   ],
   "source": [
    "print(len(tweets_topic_sa[(tweets_topic_sa['health_care'] == 1) & (tweets_topic_sa['party'] == 0) & (tweets_topic_sa['sentiment'] == 0)]))\n",
    "\n",
    "print(len(tweets_topic_sa[(tweets_topic_sa['health_care'] == 1) & (tweets_topic_sa['party'] == 0)]))\n",
    "print(4158 /17831)"
   ]
  },
  {
   "cell_type": "code",
   "execution_count": 170,
   "metadata": {
    "scrolled": true
   },
   "outputs": [
    {
     "name": "stdout",
     "output_type": "stream",
     "text": [
      "trump\n",
      "== democratic ratios == \n",
      "negative sentiment:  0.22736426652149686\n",
      "positive sentiment:  0.43096126577296495\n",
      "neutral sentiment:  0.3416744677055382\n",
      "\n",
      "== republican ratios == \n",
      "negative sentiment:  0.2063974525980605\n",
      "positive sentiment:  0.45918367346938777\n",
      "neutral sentiment:  0.33441887393255176\n",
      "this move would allow a federal prosecutor in colorado, appointed by the trump administration, to essentially recreate a black market if they want to, and put resources into fighting something that: - doesn't kill - is prescribed as medicine - is a major revenue source \n",
      "\n",
      "fy19 #ndaa is coming up & my advise to him was to not give trump anymore money for war. earmark that money for veterans & their families. war destabilizes nations & causes more #violence, more #poverty, #climatecrisis, #massmigration & more ecological devastation. \n",
      "\n",
      "more people are realizing @realdonaldtrump is a conman who doesn't care about working americans:  bad news for himand for @repmimiwalters who votes with him 98.3% of the time. know this: i will hold trump accountable, and i will fight for oc families. \n",
      "\n",
      "after the events of the past week, i think my old putin mobile billboard has become relevant again. keep an eye out because it may be coming to a city near you! @devinnunes @realdonaldtrump -aj \n",
      "\n",
      "... it is important to understand that [trump's] rise is an inevitable result of the hostility to women within the republican culture\" \" \n",
      "\n",
      "yes, he is a professor at the university of ok with a phd from u of il. he's done extreme weather research. weird to have a well-qualified trump nominee. \n",
      "\n",
      "this is on the president.  \n",
      "\n",
      "trump lied to good people. now we have families hurting because of those lies!  \n",
      "\n",
      "if @richmadaleno thinks @barackobama was successful because he was a career politician and @realdonaldtrump is a failure because he wasnt, hes wrong. donald trump is racist and incompetent. time in the senate wouldnt have changed that. \n",
      "\n",
      "if we are going to change the conversation in washington on the issue of protecting our environment, we need to change who we send to congress. congressional republicans are unwilling to stand up to trump, but i will be a check when their agenda seeks to harm #va02 \n",
      "\n"
     ]
    },
    {
     "data": {
      "image/png": "[encoded data removed]",
      "text/plain": [
       "<Figure size 1080x288 with 2 Axes>"
      ]
     },
     "metadata": {},
     "output_type": "display_data"
    }
   ],
   "source": [
    "topic = 'trump'\n",
    "\n",
    "dem, rep = plot_topic('trump')\n",
    "# print_sentiment_breakdown(dem, rep)\n",
    "# topic = tweets_topic_sa[(tweets_topic_sa[topic] == 1) & tweets_topic_sa['party'] == 0]\n"
   ]
  },
  {
   "cell_type": "code",
   "execution_count": null,
   "metadata": {},
   "outputs": [],
   "source": [
    "dem_trump = tweets_topic_sa[(tweets_topic_sa['trump'] == 1) & tweets_topic_sa['party'] == 0]\n",
    "rep_trump = tweets_topic_sa[(tweets_topic_sa['trump'] == 1) & tweets_topic_sa['party'] == 1]\n"
   ]
  },
  {
   "cell_type": "markdown",
   "metadata": {},
   "source": [
    "# Health Care"
   ]
  },
  {
   "cell_type": "code",
   "execution_count": 184,
   "metadata": {
    "scrolled": true
   },
   "outputs": [
    {
     "name": "stdout",
     "output_type": "stream",
     "text": [
      "health_care\n",
      "== democratic ratios == \n",
      "negative sentiment:  0.22691595458291036\n",
      "positive sentiment:  0.431621026590671\n",
      "neutral sentiment:  0.34146301882641866\n",
      "\n",
      "== republican ratios == \n",
      "negative sentiment:  0.21346414073071718\n",
      "positive sentiment:  0.439106901217862\n",
      "neutral sentiment:  0.3474289580514208\n",
      "were paging all our favorite healthcare providers in #nc07! please join us for a friend-raiser on 9/5. we need your support to put a #doctorinthehouse wholl be #oncallforyou for a change! get your ticket today:  \n",
      "\n",
      "6. it's the reason the republicans want to cut funding for children's health care  \n",
      "\n",
      "thank you @local4news for sharing our message with voters. we need to restore the middle class in this country, and we can do that by fighting for good jobs that pay well, for quality public education, and affordable health care for all.  \n",
      "\n",
      "yes! @julianaforlg there is a pathway to fully funding mental health healthcare in il, & bringing trauma informed practices to all communities we need this now @cityclubchicago @jbpritzker \n",
      "\n",
      "on #flint: as governor, i will have a cabinet member devoted to ensuring flint residents have what they need, including #healthcare for years to come. #migovdebate #shriforwe \n",
      "\n",
      "taking health care away from 225,000 tennesseans without a plan to replace it seems crazy. there are things we can do to stabilize health care & make it work. sen. lamar alexander has proposed a bipartisan bill to do just that. lets get things done.   \n",
      "\n",
      "when it comes to rural healthcare, there's not a sliver of difference between mary fallin and kevin stitt. time for a change. 49 days left to #takebackoklahoma   \n",
      "\n",
      "i agree. my family's story is all too commonplace. we need to reform our mental health care in both civilian and military circles. thanks for your support. \n",
      "\n",
      "senator hellers record on health care: saying one thing in nevada, only to go back to washington to do the opposite. he promised nevadans he would stand up for their health care. he didnt. #nvdebate \n",
      "\n",
      "#protectmedicare #protectmedicaid #protectsocialsecurity \n",
      "\n"
     ]
    },
    {
     "data": {
      "image/png": "[encoded data removed]",
      "text/plain": [
       "<Figure size 1080x288 with 2 Axes>"
      ]
     },
     "metadata": {},
     "output_type": "display_data"
    }
   ],
   "source": [
    "topic = 'health_care'\n",
    "\n",
    "df, df1 = plot_topic('health_care')\n",
    "# for t in tweets_topic_sa[(tweets_topic_sa['health_care'] == 1) & (tweets_topic_sa['party'] == 0)].sample(10).stripped_text:\n",
    "#     print(t, '\\n')\n",
    "# print_sentiment_breakdown(df, df1)"
   ]
  },
  {
   "cell_type": "code",
   "execution_count": 248,
   "metadata": {},
   "outputs": [
    {
     "data": {
      "text/plain": [
       "Index(['tweet_id', 'stripped_text', 'party', 'gun_control', 'health_care',\n",
       "       'abortion', 'immigration', 'kavanaugh', 'education', 'jobs', 'tax',\n",
       "       'fake_news', 'environment', 'sexual_assault', 'gender', 'women', 'lgbt',\n",
       "       'freedom', 'trump', 'twitter_handle', 'sentiment', 'neg_prob',\n",
       "       'neutral_prob', 'pos_prob'],\n",
       "      dtype='object')"
      ]
     },
     "execution_count": 248,
     "metadata": {},
     "output_type": "execute_result"
    }
   ],
   "source": [
    "dem_win_df.columns"
   ]
  },
  {
   "cell_type": "code",
   "execution_count": 258,
   "metadata": {},
   "outputs": [
    {
     "name": "stdout",
     "output_type": "stream",
     "text": [
      "num rep winner tweets on health care:  1105\n",
      "182\n",
      "391\n",
      "num rep loser tweets on health care:  1505\n",
      "num dem winner tweets on health care:  9335\n",
      "223\n",
      "488\n",
      "num dem loser tweets on health care:  8467\n",
      "num dem winners tweets on health care:  9335\n"
     ]
    },
    {
     "data": {
      "text/plain": [
       "'\\n--> republican: even though there are more losers(391) than winners (182), \\n      - # tweets from losers and # tweets from winners were pretty similar (only 400 tweets more from losers)\\n      - those who tweeted more about health care lost\\n\\n--> dem: even though there are more losers (488) than winners (222),\\n      - those who won tweeted wayyy more about health care than those who lost ()\\n'"
      ]
     },
     "execution_count": 258,
     "metadata": {},
     "output_type": "execute_result"
    },
    {
     "data": {
      "image/png": "[encoded data removed]",
      "text/plain": [
       "<Figure size 1080x288 with 2 Axes>"
      ]
     },
     "metadata": {},
     "output_type": "display_data"
    }
   ],
   "source": [
    "f, axs = plt.subplots(1,2,figsize=(15,4))\n",
    "topic = 'health_care'\n",
    "dem_winners = set(dem_df[dem_df['won_primary'] == 'Yes'].twitter_handle.append(dem_df[dem_df['won_primary'] == 'Yes'].twitter_handle2))\n",
    "dem_losers = set(dem_df[dem_df['won_primary'] == 'No'].twitter_handle.append(dem_df[dem_df['won_primary'] == 'No'].twitter_handle2))\n",
    "\n",
    "rep_winners = set(rep_df[rep_df['won_primary'] == 'Yes'].twitter_handle.append(rep_df[rep_df['won_primary'] == 'Yes'].twitter_handle2))\n",
    "rep_losers = set(rep_df[rep_df['won_primary'] == 'No'].twitter_handle.append(rep_df[rep_df['won_primary'] == 'No'].twitter_handle2))\n",
    "\n",
    "rep_win_df = tweets_topic_sa[(tweets_topic_sa[topic] == 1) & (tweets_topic_sa['party'] == 1) & (tweets_topic_sa['twitter_handle'].isin(rep_winners))]\n",
    "rep_lose_df = tweets_topic_sa[(tweets_topic_sa[topic] == 1) & (tweets_topic_sa['party'] == 1) & (tweets_topic_sa['twitter_handle'].isin(rep_losers))]\n",
    "\n",
    "dem_win_df = tweets_topic_sa[(tweets_topic_sa[topic] == 1) & (tweets_topic_sa['party'] == 0) & (tweets_topic_sa['twitter_handle'].isin(dem_winners))]\n",
    "dem_lose_df = tweets_topic_sa[(tweets_topic_sa[topic] == 1) & (tweets_topic_sa['party'] == 0)& (tweets_topic_sa['twitter_handle'].isin(dem_losers))]\n",
    "\n",
    "\n",
    "axs[0].hist([dem_win_df.sentiment, dem_lose_df.sentiment], bins=[0, 1, 2, 3, 4, 5])\n",
    "axs[0].set_title(\"democratic - {}\".format(topic))\n",
    "axs[1].hist([rep_win_df.sentiment, rep_lose_df.sentiment], bins=[0, 1, 2, 3, 4, 5])\n",
    "axs[1].set_title(\"republican - {}\".format(topic))\n",
    "\n",
    "print(\"num rep winner tweets on health care: \", len(rep_win_df))\n",
    "print(len(rep_winners))\n",
    "print(len(rep_losers))\n",
    "print(\"num rep loser tweets on health care: \", len(rep_lose_df))\n",
    "\n",
    "print(\"num dem winner tweets on health care: \", len(dem_win_df))\n",
    "print(len(dem_winners))\n",
    "print(len(dem_losers))\n",
    "print(\"num dem loser tweets on health care: \", len(dem_lose_df))\n",
    "print(\"num dem winners tweets on health care: \", len(dem_win_df))\n",
    "\n",
    "\"\"\"\n",
    "--> republican: even though there are more losers(391) than winners (182), \n",
    "      - # tweets from losers and # tweets from winners were pretty similar (only 400 tweets more from losers)\n",
    "      - those who tweeted more about health care lost\n",
    "\n",
    "--> dem: even though there are more losers (488) than winners (222),\n",
    "      - those who won tweeted wayyy more about health care than those who lost (900 more)\n",
    "\"\"\"\n"
   ]
  },
  {
   "cell_type": "code",
   "execution_count": 198,
   "metadata": {},
   "outputs": [
    {
     "data": {
      "text/plain": [
       "Index(['candidate', 'twitter_handle', 'twitter_handle2', 'state', 'district',\n",
       "       'office_type', 'race_type', 'race_primary_election_date',\n",
       "       'primary_status', 'primary_runoff_status', 'general_status',\n",
       "       'primary_pctg', 'won_primary', 'rep_party_support', 'trump_endorsed',\n",
       "       'bannon_endorsed', 'great_america_endorsed', 'nra_endorsed',\n",
       "       'right_to_life_endorsed', 'susan_b_anthony_endorsed',\n",
       "       'club_for_growth_endorsed', 'koch_support', 'house_freedom_support',\n",
       "       'tea_party_endorsed', 'main_street_endorsed', 'chamber_endorsed',\n",
       "       'no_labels_support', 'has_twitter', 'num_endorsements',\n",
       "       'gun_control_tweet_count', 'health_care_tweet_count',\n",
       "       'abortion_tweet_count', 'immigration_tweet_count',\n",
       "       'kavanaugh_tweet_count', 'education_tweet_count', 'jobs_tweet_count',\n",
       "       'tax_tweet_count', 'fake_news_tweet_count', 'environment_tweet_count',\n",
       "       'sexual_assault_tweet_count', 'gender_tweet_count', 'women_tweet_count',\n",
       "       'lgbt_tweet_count', 'freedom_tweet_count', 'trump_tweet_count',\n",
       "       'num_tweets', 'count_negative', 'count_neutral', 'count_positive',\n",
       "       'sentiment'],\n",
       "      dtype='object')"
      ]
     },
     "execution_count": 198,
     "metadata": {},
     "output_type": "execute_result"
    }
   ],
   "source": [
    "# fig, axs = plt.subplots(1, 2, figsize=(15,4))\n",
    "# axs[0].scatter(dem_df['sentiment'], dem_df['health_care_tweet_count'])\n",
    "# axs[1].scatter(rep_df['sentiment'], rep_df['health_care_tweet_count'], color='red')\n",
    "rep_df.columns"
   ]
  },
  {
   "cell_type": "markdown",
   "metadata": {},
   "source": [
    "# Immigration"
   ]
  },
  {
   "cell_type": "code",
   "execution_count": 200,
   "metadata": {},
   "outputs": [
    {
     "name": "stdout",
     "output_type": "stream",
     "text": [
      "immigration\n",
      "== democratic ratios == \n",
      "negative sentiment:  0.22709820863686483\n",
      "positive sentiment:  0.4314003723721552\n",
      "neutral sentiment:  0.3415014189909799\n",
      "\n",
      "== republican ratios == \n",
      "negative sentiment:  0.1945148651763079\n",
      "positive sentiment:  0.4648536529154183\n",
      "neutral sentiment:  0.3406314819082738\n"
     ]
    },
    {
     "data": {
      "image/png": "[encoded data removed]",
      "text/plain": [
       "<Figure size 1080x288 with 2 Axes>"
      ]
     },
     "metadata": {},
     "output_type": "display_data"
    }
   ],
   "source": [
    "topic = 'immigration'\n",
    "dem, rep = plot_topic(topic)"
   ]
  },
  {
   "cell_type": "markdown",
   "metadata": {},
   "source": [
    "# LGBT"
   ]
  },
  {
   "cell_type": "code",
   "execution_count": 177,
   "metadata": {
    "scrolled": true
   },
   "outputs": [
    {
     "name": "stdout",
     "output_type": "stream",
     "text": [
      "lgbt\n",
      "== democratic ratios == \n",
      "negative sentiment:  0.22684784071034575\n",
      "positive sentiment:  0.43167137539799993\n",
      "neutral sentiment:  0.3414807838916543\n",
      "\n",
      "== republican ratios == \n",
      "negative sentiment:  0.20270270270270271\n",
      "positive sentiment:  0.35135135135135137\n",
      "neutral sentiment:  0.44594594594594594\n"
     ]
    },
    {
     "data": {
      "image/png": "[encoded data removed]",
      "text/plain": [
       "<Figure size 1080x288 with 2 Axes>"
      ]
     },
     "metadata": {},
     "output_type": "display_data"
    }
   ],
   "source": [
    "topic = 'lgbt'\n",
    "dem, rep = plot_topic(topic)"
   ]
  },
  {
   "cell_type": "code",
   "execution_count": 183,
   "metadata": {},
   "outputs": [],
   "source": [
    "# f, axs = plt.subplots(1)\n",
    "# rep = tweets_topic_sa[(tweets_topic_sa['lgbt'] == 1) & tweets_topic_sa['party'] == 1]\n",
    "# dem = tweets_topic_sa[(tweets_topic_sa['lgbt'] == 1) & tweets_topic_sa['party'] == 0]\n",
    "\n",
    "# axs.hist([rep.sentiment, dem.sentiment])\n",
    "\n",
    "# # [0].hist(dem.sentiment, color='blue', bins=[0, 1, 2, 3, 4, 5])\n",
    "# # axs[0].set_title(\"democratic - {}\".format(topic))\n",
    "# # axs[1].hist(rep.sentiment, color='red', bins=[0, 1, 2, 3, 4, 5])\n",
    "# # axs[1].set_title(\"republican - {}\".format(topic))\n",
    "# # print_sentiment_breakdown(tweets_topic_sa, topic)"
   ]
  },
  {
   "cell_type": "markdown",
   "metadata": {},
   "source": [
    "# Education"
   ]
  },
  {
   "cell_type": "code",
   "execution_count": 178,
   "metadata": {},
   "outputs": [
    {
     "name": "stdout",
     "output_type": "stream",
     "text": [
      "education\n",
      "== democratic ratios == \n",
      "negative sentiment:  0.2268540924882739\n",
      "positive sentiment:  0.431761875889466\n",
      "neutral sentiment:  0.3413840316222601\n",
      "\n",
      "== republican ratios == \n",
      "negative sentiment:  0.2238204833141542\n",
      "positive sentiment:  0.3993095512082854\n",
      "neutral sentiment:  0.3768699654775604\n"
     ]
    },
    {
     "data": {
      "image/png": "[encoded data removed]",
      "text/plain": [
       "<Figure size 1080x288 with 2 Axes>"
      ]
     },
     "metadata": {},
     "output_type": "display_data"
    }
   ],
   "source": [
    "topic = 'education'\n",
    "dem, rep = plot_topic(topic)"
   ]
  },
  {
   "cell_type": "markdown",
   "metadata": {},
   "source": [
    "# Abortion"
   ]
  },
  {
   "cell_type": "code",
   "execution_count": 201,
   "metadata": {},
   "outputs": [
    {
     "name": "stdout",
     "output_type": "stream",
     "text": [
      "abortion\n",
      "== democratic ratios == \n",
      "negative sentiment:  0.226928637187491\n",
      "positive sentiment:  0.431550102131822\n",
      "neutral sentiment:  0.341521260680687\n",
      "\n",
      "== republican ratios == \n",
      "negative sentiment:  0.19359430604982206\n",
      "positive sentiment:  0.47544483985765124\n",
      "neutral sentiment:  0.3309608540925267\n"
     ]
    },
    {
     "data": {
      "image/png": "[encoded data removed]",
      "text/plain": [
       "<Figure size 1080x288 with 2 Axes>"
      ]
     },
     "metadata": {},
     "output_type": "display_data"
    }
   ],
   "source": [
    "topic = 'abortion'\n",
    "dem, rep = plot_topic(topic)"
   ]
  },
  {
   "cell_type": "markdown",
   "metadata": {},
   "source": [
    "# Jobs"
   ]
  },
  {
   "cell_type": "code",
   "execution_count": 202,
   "metadata": {},
   "outputs": [
    {
     "name": "stdout",
     "output_type": "stream",
     "text": [
      "jobs\n",
      "== democratic ratios == \n",
      "negative sentiment:  0.22693047838460495\n",
      "positive sentiment:  0.4315652527442743\n",
      "neutral sentiment:  0.34150426887112073\n",
      "\n",
      "== republican ratios == \n",
      "negative sentiment:  0.21532492725509214\n",
      "positive sentiment:  0.4444713870029098\n",
      "neutral sentiment:  0.34020368574199805\n"
     ]
    },
    {
     "data": {
      "image/png": "[encoded data removed]",
      "text/plain": [
       "<Figure size 1080x288 with 2 Axes>"
      ]
     },
     "metadata": {},
     "output_type": "display_data"
    }
   ],
   "source": [
    "topic = 'jobs'\n",
    "dem, rep = plot_topic(topic)"
   ]
  },
  {
   "cell_type": "markdown",
   "metadata": {},
   "source": [
    "# Gun Control"
   ]
  },
  {
   "cell_type": "code",
   "execution_count": 203,
   "metadata": {},
   "outputs": [
    {
     "name": "stdout",
     "output_type": "stream",
     "text": [
      "gun_control\n",
      "== democratic ratios == \n",
      "negative sentiment:  0.22698538946692565\n",
      "positive sentiment:  0.43154908442943896\n",
      "neutral sentiment:  0.3414655261036354\n",
      "\n",
      "== republican ratios == \n",
      "negative sentiment:  0.2015554115359689\n",
      "positive sentiment:  0.45171743357096567\n",
      "neutral sentiment:  0.34672715489306544\n"
     ]
    },
    {
     "data": {
      "image/png": "[encoded data removed]",
      "text/plain": [
       "<Figure size 1080x288 with 2 Axes>"
      ]
     },
     "metadata": {},
     "output_type": "display_data"
    }
   ],
   "source": [
    "topic = 'gun_control'\n",
    "dem, rep = plot_topic(topic)"
   ]
  },
  {
   "cell_type": "code",
   "execution_count": 204,
   "metadata": {},
   "outputs": [
    {
     "data": {
      "text/plain": [
       "Index(['candidate', 'twitter_handle', 'twitter_handle2', 'state', 'district',\n",
       "       'office_type', 'race_type', 'race_primary_election_date',\n",
       "       'primary_status', 'primary_runoff_status', 'general_status',\n",
       "       'primary_pctg', 'won_primary', 'rep_party_support', 'trump_endorsed',\n",
       "       'bannon_endorsed', 'great_america_endorsed', 'nra_endorsed',\n",
       "       'right_to_life_endorsed', 'susan_b_anthony_endorsed',\n",
       "       'club_for_growth_endorsed', 'koch_support', 'house_freedom_support',\n",
       "       'tea_party_endorsed', 'main_street_endorsed', 'chamber_endorsed',\n",
       "       'no_labels_support', 'has_twitter', 'num_endorsements',\n",
       "       'gun_control_tweet_count', 'health_care_tweet_count',\n",
       "       'abortion_tweet_count', 'immigration_tweet_count',\n",
       "       'kavanaugh_tweet_count', 'education_tweet_count', 'jobs_tweet_count',\n",
       "       'tax_tweet_count', 'fake_news_tweet_count', 'environment_tweet_count',\n",
       "       'sexual_assault_tweet_count', 'gender_tweet_count', 'women_tweet_count',\n",
       "       'lgbt_tweet_count', 'freedom_tweet_count', 'trump_tweet_count',\n",
       "       'num_tweets', 'count_negative', 'count_neutral', 'count_positive',\n",
       "       'sentiment'],\n",
       "      dtype='object')"
      ]
     },
     "execution_count": 204,
     "metadata": {},
     "output_type": "execute_result"
    }
   ],
   "source": [
    "rep_df.columns"
   ]
  },
  {
   "cell_type": "code",
   "execution_count": 210,
   "metadata": {},
   "outputs": [
    {
     "name": "stdout",
     "output_type": "stream",
     "text": [
      "== democratic ratios == \n",
      "negative sentiment:  0.22698538946692565\n",
      "positive sentiment:  0.43154908442943896\n",
      "neutral sentiment:  0.3414655261036354\n",
      "\n",
      "== republican ratios == \n",
      "negative sentiment:  0.2015554115359689\n",
      "positive sentiment:  0.45171743357096567\n",
      "neutral sentiment:  0.34672715489306544\n"
     ]
    },
    {
     "data": {
      "image/png": "[encoded data removed]",
      "text/plain": [
       "<Figure size 1080x288 with 2 Axes>"
      ]
     },
     "metadata": {},
     "output_type": "display_data"
    }
   ],
   "source": [
    "topic = 'gun_control'\n",
    "# dem, rep = plot_topic(topic)\n",
    "nra_endorsed = rep_df[rep_df['nra_endorsed'] == 'Yes'].twitter_handle.append(rep_df[rep_df['nra_endorsed'] == 'Yes'].twitter_handle2)\n",
    "gun_sense = dem_df[dem_df['gun_sense_candidate'] == 'Yes'].twitter_handle.append( dem_df[dem_df['gun_sense_candidate'] == 'Yes'].twitter_handle2)\n",
    "\n",
    "\n",
    "f, axs = plt.subplots(1,2,figsize=(15,4))\n",
    "rep = tweets_topic_sa[(tweets_topic_sa['gun_control'] == 1) \n",
    "                      & (tweets_topic_sa['party'] == 1) & (tweets_topic_sa['twitter_handle'].isin(nra_endorsed))]\n",
    "dem = tweets_topic_sa[(tweets_topic_sa['gun_control'] == 1) & (tweets_topic_sa['party'] == 0) & (tweets_topic_sa['twitter_handle'].isin(gun_sense))]\n",
    "\n",
    "axs[0].hist(dem.sentiment, color='blue', bins=[0, 1, 2, 3, 4, 5])\n",
    "axs[0].set_title(\"democratic - {}\".format(topic))\n",
    "axs[1].hist(rep.sentiment, color='red', bins=[0, 1, 2, 3, 4, 5])\n",
    "axs[1].set_title(\"republican - {}\".format(topic))\n",
    "print_sentiment_breakdown(tweets_topic_sa, topic)"
   ]
  },
  {
   "cell_type": "code",
   "execution_count": null,
   "metadata": {},
   "outputs": [],
   "source": []
  },
  {
   "cell_type": "code",
   "execution_count": 236,
   "metadata": {},
   "outputs": [
    {
     "name": "stdout",
     "output_type": "stream",
     "text": [
      "185\n",
      "54\n",
      "695\n"
     ]
    },
    {
     "data": {
      "image/png": "[encoded data removed]",
      "text/plain": [
       "<Figure size 1080x288 with 2 Axes>"
      ]
     },
     "metadata": {},
     "output_type": "display_data"
    }
   ],
   "source": [
    "# print(len(rep_df[rep_df['twitter_handle'].isin(nra_endorsed) | rep_df['twitter_handle2'].isin(nra_endorsed)].gun_control_tweet_count))\n",
    "# len(dem_df[dem_df['twitter_handle'].isin(gun_sense) | rep_df['twitter_handle2'].isin(gun_sense)].gun_control_tweet_count)\n",
    "\n",
    "f, axs = plt.subplots(1,2,figsize=(15,4))\n",
    "x = rep_df[(rep_df['twitter_handle'].isin(nra_endorsed)) & (rep_df['twitter_handle2'].isin(nra_endorsed))]\n",
    "y = rep_df[(~rep_df['twitter_handle'].isin(nra_endorsed)) & (~rep_df['twitter_handle2'].isin(nra_endorsed))]\n",
    "axs[0].hist(x[x['gun_control_tweet_count'] < 50].gun_control_tweet_count)\n",
    "axs[1].hist(y.gun_control_tweet_count)\n",
    "print(len(x))\n",
    "print(len(y))\n",
    "print(len(rep_df))\n",
    "\n"
   ]
  },
  {
   "cell_type": "code",
   "execution_count": 209,
   "metadata": {},
   "outputs": [
    {
     "data": {
      "text/plain": [
       "5           WaltMaddox\n",
       "10          ElectDrDia\n",
       "11     ItsMalloryHagan\n",
       "12        LeeAuman2018\n",
       "16        clarketucker\n",
       "17           GwenCombs\n",
       "26       DelaineEastin\n",
       "27         GavinNewsom\n",
       "28        JohnChiangCA\n",
       "39       joshua_harder\n",
       "43           VMforCA10\n",
       "51        BryanCaforio\n",
       "52     jessphoenix2018\n",
       "53        RepKatieHill\n",
       "55      AndyThorburnCA\n",
       "56       GilCisnerosCA\n",
       "58         DocTran2018\n",
       "59           samjammal\n",
       "61       Morse4America\n",
       "62      regina_bateson\n",
       "64        rozacalderon\n",
       "65        peacock4ca42\n",
       "67          BrianForde\n",
       "68           DaveMinCA\n",
       "69       katieporteroc\n",
       "70       KiaHamadanchy\n",
       "72     drhanskeirstead\n",
       "73         HarleyRouda\n",
       "76     OmarInTheHouse_\n",
       "89          Kennedy4CO\n",
       "            ...       \n",
       "620    Barlow4Congress\n",
       "623              Kanew\n",
       "631       randrewwhite\n",
       "644     SiegelForTexas\n",
       "646    Cadien4Congress\n",
       "666       JosephKopser\n",
       "667      mstreetwilson\n",
       "671       SriPKulkarni\n",
       "674     GinaOrtizJones\n",
       "678     JanMcDowellDEM\n",
       "683       ChrisPerriTX\n",
       "684       JulieForTX25\n",
       "700       voteadambell\n",
       "703      SamsPressShop\n",
       "704    DrMann4Congress\n",
       "709      ColinAllredTX\n",
       "710            EdforTX\n",
       "739    SuddarthforVA01\n",
       "740     VangieWilliams\n",
       "741        AlisonforVA\n",
       "742         helmerva10\n",
       "743          RepWexton\n",
       "744       BigginsForVA\n",
       "745       LindseyForUS\n",
       "746        PePelletier\n",
       "747     RepElaineLuria\n",
       "748       KarenMallard\n",
       "751      JenniferForVA\n",
       "754      RepSpanberger\n",
       "755          DanWardVA\n",
       "Name: twitter_handle, Length: 182, dtype: object"
      ]
     },
     "execution_count": 209,
     "metadata": {},
     "output_type": "execute_result"
    }
   ],
   "source": [
    "# dem_df[dem_df['gun_sense_candidate'] == 'Yes'].twitter_handle"
   ]
  },
  {
   "cell_type": "code",
   "execution_count": null,
   "metadata": {},
   "outputs": [],
   "source": []
  }
 ],
 "metadata": {
  "kernelspec": {
   "display_name": "tf",
   "language": "python",
   "name": "tf"
  },
  "language_info": {
   "codemirror_mode": {
    "name": "ipython",
    "version": 3
   },
   "file_extension": ".py",
   "mimetype": "text/x-python",
   "name": "python",
   "nbconvert_exporter": "python",
   "pygments_lexer": "ipython3",
   "version": "3.6.2"
  }
 },
 "nbformat": 4,
 "nbformat_minor": 2
}
