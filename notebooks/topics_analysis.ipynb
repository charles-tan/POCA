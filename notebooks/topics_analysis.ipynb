{
 "cells": [
  {
   "cell_type": "code",
   "execution_count": 13,
   "metadata": {},
   "outputs": [],
   "source": [
    "import pandas as pd\n",
    "import matplotlib.pyplot as plt\n",
    "import numpy as np"
   ]
  },
  {
   "cell_type": "code",
   "execution_count": 14,
   "metadata": {},
   "outputs": [],
   "source": [
    "dem_df = pd.read_csv('../data/post_dem_candidates_with_tweet_topics.csv', encoding=\"ISO-8859-1\").dropna(subset=['primary_pctg'])\n",
    "rep_df = pd.read_csv('../data/post_rep_candidates_with_tweet_topics.csv', encoding=\"ISO-8859-1\").dropna(subset=['primary_pctg'])\n",
    "tweets_with_topics = pd.read_csv('../data/tweet_data/tweets_with_topics_post.csv', index_col=False)\n",
    "sa_all_tweets = pd.read_csv('../data/tweet_data/sa_all_tweets_post.csv', index_col=False)\n",
    "\n",
    "all_tweets_cleaned = pd.read_csv('../data/tweet_data/all_tweets_cleaned.csv', index_col=False)\n",
    "dem_df['sentiment'] = dem_df['sentiment'].fillna(0)\n",
    "rep_df['sentiment'] = rep_df['sentiment'].fillna(0)\n",
    "\n",
    "\n"
   ]
  },
  {
   "cell_type": "code",
   "execution_count": 15,
   "metadata": {},
   "outputs": [
    {
     "data": {
      "text/html": [
       "<div>\n",
       "<style scoped>\n",
       "    .dataframe tbody tr th:only-of-type {\n",
       "        vertical-align: middle;\n",
       "    }\n",
       "\n",
       "    .dataframe tbody tr th {\n",
       "        vertical-align: top;\n",
       "    }\n",
       "\n",
       "    .dataframe thead th {\n",
       "        text-align: right;\n",
       "    }\n",
       "</style>\n",
       "<table border=\"1\" class=\"dataframe\">\n",
       "  <thead>\n",
       "    <tr style=\"text-align: right;\">\n",
       "      <th></th>\n",
       "      <th>tweet_id</th>\n",
       "      <th>stripped_text</th>\n",
       "      <th>twitter_handle</th>\n",
       "      <th>sentiment</th>\n",
       "    </tr>\n",
       "  </thead>\n",
       "  <tbody>\n",
       "    <tr>\n",
       "      <th>0</th>\n",
       "      <td>0</td>\n",
       "      <td>With corruption being one of the biggest conce...</td>\n",
       "      <td>CA_Countryman</td>\n",
       "      <td>0</td>\n",
       "    </tr>\n",
       "    <tr>\n",
       "      <th>1</th>\n",
       "      <td>1</td>\n",
       "      <td>With corruption being one of the biggest conce...</td>\n",
       "      <td>CA_Countryman</td>\n",
       "      <td>0</td>\n",
       "    </tr>\n",
       "    <tr>\n",
       "      <th>2</th>\n",
       "      <td>2</td>\n",
       "      <td>Here is an important notice concerning Christo...</td>\n",
       "      <td>CA_Countryman</td>\n",
       "      <td>2</td>\n",
       "    </tr>\n",
       "  </tbody>\n",
       "</table>\n",
       "</div>"
      ],
      "text/plain": [
       "   tweet_id                                      stripped_text twitter_handle  \\\n",
       "0         0  With corruption being one of the biggest conce...  CA_Countryman   \n",
       "1         1  With corruption being one of the biggest conce...  CA_Countryman   \n",
       "2         2  Here is an important notice concerning Christo...  CA_Countryman   \n",
       "\n",
       "   sentiment  \n",
       "0          0  \n",
       "1          0  \n",
       "2          2  "
      ]
     },
     "execution_count": 15,
     "metadata": {},
     "output_type": "execute_result"
    }
   ],
   "source": [
    "sa_all_tweets.head(3)"
   ]
  },
  {
   "cell_type": "code",
   "execution_count": 16,
   "metadata": {},
   "outputs": [
    {
     "data": {
      "text/plain": [
       "Index(['tweet_idx', 'stripped_text', 'party', 'gun_control', 'health_care',\n",
       "       'abortion', 'immigration', 'kavanaugh', 'education', 'jobs', 'tax',\n",
       "       'fake_news', 'environment', 'sexual_assault', 'gender', 'women', 'lgbt',\n",
       "       'freedom', 'trump', 'twitter_handle'],\n",
       "      dtype='object')"
      ]
     },
     "execution_count": 16,
     "metadata": {},
     "output_type": "execute_result"
    }
   ],
   "source": [
    "tweets_with_topics.columns"
   ]
  },
  {
   "cell_type": "code",
   "execution_count": 17,
   "metadata": {},
   "outputs": [
    {
     "data": {
      "text/plain": [
       "Index(['tweet_id', 'stripped_text', 'twitter_handle', 'sentiment'], dtype='object')"
      ]
     },
     "execution_count": 17,
     "metadata": {},
     "output_type": "execute_result"
    }
   ],
   "source": [
    "sa_all_tweets.columns"
   ]
  },
  {
   "cell_type": "code",
   "execution_count": 18,
   "metadata": {},
   "outputs": [],
   "source": [
    "tweets_with_topics = tweets_with_topics.rename(index=str, columns={\"tweet_idx\": \"tweet_id\"})\n",
    "tweets_topic_sa = tweets_with_topics.merge(sa_all_tweets[['tweet_id', 'sentiment']], on=['tweet_id'], how='left')\n"
   ]
  },
  {
   "cell_type": "code",
   "execution_count": 19,
   "metadata": {},
   "outputs": [
    {
     "name": "stdout",
     "output_type": "stream",
     "text": [
      "0\n",
      "557549\n",
      "557549\n",
      "609527\n"
     ]
    }
   ],
   "source": [
    "print(len(tweets_topic_sa[tweets_topic_sa['sentiment'].isna()]))\n",
    "print(len(tweets_topic_sa))\n",
    "print(len(tweets_with_topics))\n",
    "print(len(sa_all_tweets))"
   ]
  },
  {
   "cell_type": "code",
   "execution_count": 20,
   "metadata": {},
   "outputs": [
    {
     "name": "stdout",
     "output_type": "stream",
     "text": [
      "557549\n",
      "557549\n"
     ]
    }
   ],
   "source": [
    "print(len(all_tweets_cleaned))\n",
    "print(len(tweets_with_topics))"
   ]
  },
  {
   "cell_type": "code",
   "execution_count": 21,
   "metadata": {},
   "outputs": [
    {
     "data": {
      "text/plain": [
       "Index(['candidate', 'twitter_handle', 'twitter_handle2', 'state', 'district',\n",
       "       'office_type', 'race_type', 'race_primary_election_date',\n",
       "       'primary_status', 'primary_runoff_status', 'general_status',\n",
       "       'partisan_lean', 'primary_pctg', 'won_primary', 'race', 'veteran',\n",
       "       'lgbtq', 'elected_official', 'self_funder', 'stem', 'obama_alum',\n",
       "       'dem_party_support', 'emily_endorsed', 'gun_sense_candidate',\n",
       "       'biden_endorsed', 'warren_endorsed', 'sanders_endorsed',\n",
       "       'our_revolution_endorsed', 'justice_dems_endorsed', 'pccc_endorsed',\n",
       "       'indivisible_endorsed', 'wfp_endorsed', 'votevets_endorsed',\n",
       "       'no_labels_support', 'has_twitter', 'num_endorsements',\n",
       "       'gun_control_tweet_count', 'health_care_tweet_count',\n",
       "       'abortion_tweet_count', 'immigration_tweet_count',\n",
       "       'kavanaugh_tweet_count', 'education_tweet_count', 'jobs_tweet_count',\n",
       "       'tax_tweet_count', 'fake_news_tweet_count', 'environment_tweet_count',\n",
       "       'sexual_assault_tweet_count', 'gender_tweet_count', 'women_tweet_count',\n",
       "       'lgbt_tweet_count', 'freedom_tweet_count', 'trump_tweet_count',\n",
       "       'num_tweets', 'count_negative', 'count_neutral', 'count_positive',\n",
       "       'sentiment'],\n",
       "      dtype='object')"
      ]
     },
     "execution_count": 21,
     "metadata": {},
     "output_type": "execute_result"
    }
   ],
   "source": [
    "dem_df.columns"
   ]
  },
  {
   "cell_type": "code",
   "execution_count": 22,
   "metadata": {},
   "outputs": [],
   "source": [
    "# # Add 'party' column to tweets with topics\n",
    "\n",
    "# tweets_with_topics = tweets_with_topics.merge(all_tweets_cleaned[['tweet_idx', 'twitter_handle']], how='left', on=['tweet_idx'])\n",
    "                                                                                         \n",
    "# dem_candidates = dem_df.twitter_handle.unique()\n",
    "# dem_candidates2 = dem_df.twitter_handle2.unique()\n",
    "\n",
    "# party = []\n",
    "# for i, r in tweets_with_topics.iterrows():\n",
    "#     if i % 20000 == 0:\n",
    "#         print('{} / {}'.format(i, len(tweets_with_topics)))\n",
    "#     if r['twitter_handle'] in dem_candidates or r['twitter_handle'] in dem_candidates2:\n",
    "#         party.append(0)\n",
    "#     else:\n",
    "#         party.append(1)\n",
    "# tweets_with_topics['party'] = party\n",
    "\n",
    "# tweets_with_topics.to_csv('../data/tweet_data/tweets_with_topics_post.csv', index=False)\n"
   ]
  },
  {
   "cell_type": "code",
   "execution_count": 23,
   "metadata": {},
   "outputs": [],
   "source": [
    "topics = ['gun_control', 'health_care',\n",
    "       'abortion', 'immigration', 'education', 'jobs'\n",
    "          , 'environment','women', 'lgbt', 'freedom', 'trump']\n",
    "topic_cols = ['{}_tweet_count'.format(t) for t in topics]"
   ]
  },
  {
   "cell_type": "code",
   "execution_count": 24,
   "metadata": {},
   "outputs": [
    {
     "name": "stdout",
     "output_type": "stream",
     "text": [
      "dem candidates w/ no classified topics:  0.22685788787483702\n",
      "rep candidates w/ no classified topics:  0.4287769784172662\n"
     ]
    }
   ],
   "source": [
    "print(\"dem candidates w/ no classified topics: \", len(dem_df[(dem_df['gun_control_tweet_count'] == 0) & \n",
    "          (dem_df['health_care_tweet_count'] == 0) &\n",
    "          (dem_df['abortion_tweet_count'] == 0) &\n",
    "          (dem_df['immigration_tweet_count'] == 0) &\n",
    "          (dem_df['education_tweet_count'] == 0) &\n",
    "          (dem_df['jobs_tweet_count'] == 0) &\n",
    "          (dem_df['environment_tweet_count'] == 0) &\n",
    "          (dem_df['women_tweet_count'] == 0) &\n",
    "          (dem_df['lgbt_tweet_count'] == 0) &\n",
    "          (dem_df['freedom_tweet_count'] == 0) & (dem_df['trump_tweet_count'] == 0)]) / len(dem_df))\n",
    "\n",
    "print(\"rep candidates w/ no classified topics: \", len(rep_df[(rep_df['gun_control_tweet_count'] == 0) & \n",
    "          (rep_df['health_care_tweet_count'] == 0) &\n",
    "          (rep_df['abortion_tweet_count'] == 0) &\n",
    "          (rep_df['immigration_tweet_count'] == 0) &\n",
    "          (rep_df['education_tweet_count'] == 0) &\n",
    "          (rep_df['jobs_tweet_count'] == 0) &\n",
    "          (rep_df['environment_tweet_count'] == 0) &\n",
    "          (rep_df['women_tweet_count'] == 0) &\n",
    "          (rep_df['lgbt_tweet_count'] == 0) &\n",
    "          (rep_df['freedom_tweet_count'] == 0) & (rep_df['trump_tweet_count'] == 0)]) / len(rep_df))"
   ]
  },
  {
   "cell_type": "code",
   "execution_count": 25,
   "metadata": {},
   "outputs": [],
   "source": [
    "def get_topic_df(candidate_df, party):\n",
    "    max_count_col = []\n",
    "    median_count_col = []\n",
    "    avg_count_col = []\n",
    "    total_classified_col = []\n",
    "    \n",
    "    for t in topics:\n",
    "        topic_count = len(tweets_with_topics[(tweets_with_topics[t] == 1) & (tweets_with_topics['party'] == party)])\n",
    "        max_count = candidate_df[\"{}_tweet_count\".format(t)].max()\n",
    "        avg_count = candidate_df[\"{}_tweet_count\".format(t)].mean()\n",
    "        max_count_col.append(max_count)\n",
    "        avg_count_col.append(round(avg_count, 2))\n",
    "        total_classified_col.append(topic_count)\n",
    "    df = pd.DataFrame(np.transpose([topics,avg_count_col, max_count_col, total_classified_col])\n",
    "             , columns=['topic', 'avg_count', 'max_count', 'total_classified'])\n",
    "    df['max_count'] = df['max_count'].astype('int32')\n",
    "    df['total_classified'] = df['total_classified'].astype('int32')\n",
    "    return df\n",
    "    \n",
    "dem_topic_df = get_topic_df(dem_df, 0)\n",
    "rep_topic_df = get_topic_df(rep_df, 1)"
   ]
  },
  {
   "cell_type": "code",
   "execution_count": 26,
   "metadata": {},
   "outputs": [
    {
     "name": "stdout",
     "output_type": "stream",
     "text": [
      "total tweets:  381881\n"
     ]
    },
    {
     "data": {
      "text/html": [
       "<div>\n",
       "<style scoped>\n",
       "    .dataframe tbody tr th:only-of-type {\n",
       "        vertical-align: middle;\n",
       "    }\n",
       "\n",
       "    .dataframe tbody tr th {\n",
       "        vertical-align: top;\n",
       "    }\n",
       "\n",
       "    .dataframe thead th {\n",
       "        text-align: right;\n",
       "    }\n",
       "</style>\n",
       "<table border=\"1\" class=\"dataframe\">\n",
       "  <thead>\n",
       "    <tr style=\"text-align: right;\">\n",
       "      <th></th>\n",
       "      <th>topic</th>\n",
       "      <th>avg_count</th>\n",
       "      <th>max_count</th>\n",
       "      <th>total_classified</th>\n",
       "    </tr>\n",
       "  </thead>\n",
       "  <tbody>\n",
       "    <tr>\n",
       "      <th>0</th>\n",
       "      <td>trump</td>\n",
       "      <td>28.24</td>\n",
       "      <td>554</td>\n",
       "      <td>21582</td>\n",
       "    </tr>\n",
       "    <tr>\n",
       "      <th>1</th>\n",
       "      <td>health_care</td>\n",
       "      <td>23.49</td>\n",
       "      <td>343</td>\n",
       "      <td>17831</td>\n",
       "    </tr>\n",
       "    <tr>\n",
       "      <th>2</th>\n",
       "      <td>gun_control</td>\n",
       "      <td>15.01</td>\n",
       "      <td>352</td>\n",
       "      <td>11455</td>\n",
       "    </tr>\n",
       "    <tr>\n",
       "      <th>3</th>\n",
       "      <td>jobs</td>\n",
       "      <td>13.25</td>\n",
       "      <td>157</td>\n",
       "      <td>10071</td>\n",
       "    </tr>\n",
       "    <tr>\n",
       "      <th>4</th>\n",
       "      <td>education</td>\n",
       "      <td>9.55</td>\n",
       "      <td>192</td>\n",
       "      <td>7292</td>\n",
       "    </tr>\n",
       "    <tr>\n",
       "      <th>5</th>\n",
       "      <td>environment</td>\n",
       "      <td>7.65</td>\n",
       "      <td>1026</td>\n",
       "      <td>5855</td>\n",
       "    </tr>\n",
       "    <tr>\n",
       "      <th>6</th>\n",
       "      <td>immigration</td>\n",
       "      <td>7.04</td>\n",
       "      <td>192</td>\n",
       "      <td>5379</td>\n",
       "    </tr>\n",
       "    <tr>\n",
       "      <th>7</th>\n",
       "      <td>lgbt</td>\n",
       "      <td>2.39</td>\n",
       "      <td>64</td>\n",
       "      <td>1826</td>\n",
       "    </tr>\n",
       "    <tr>\n",
       "      <th>8</th>\n",
       "      <td>freedom</td>\n",
       "      <td>2.16</td>\n",
       "      <td>55</td>\n",
       "      <td>1651</td>\n",
       "    </tr>\n",
       "    <tr>\n",
       "      <th>9</th>\n",
       "      <td>women</td>\n",
       "      <td>2.03</td>\n",
       "      <td>59</td>\n",
       "      <td>1548</td>\n",
       "    </tr>\n",
       "    <tr>\n",
       "      <th>10</th>\n",
       "      <td>abortion</td>\n",
       "      <td>1.93</td>\n",
       "      <td>74</td>\n",
       "      <td>1474</td>\n",
       "    </tr>\n",
       "  </tbody>\n",
       "</table>\n",
       "</div>"
      ],
      "text/plain": [
       "          topic avg_count  max_count  total_classified\n",
       "0         trump     28.24        554             21582\n",
       "1   health_care     23.49        343             17831\n",
       "2   gun_control     15.01        352             11455\n",
       "3          jobs     13.25        157             10071\n",
       "4     education      9.55        192              7292\n",
       "5   environment      7.65       1026              5855\n",
       "6   immigration      7.04        192              5379\n",
       "7          lgbt      2.39         64              1826\n",
       "8       freedom      2.16         55              1651\n",
       "9         women      2.03         59              1548\n",
       "10     abortion      1.93         74              1474"
      ]
     },
     "execution_count": 26,
     "metadata": {},
     "output_type": "execute_result"
    }
   ],
   "source": [
    "print(\"total tweets: \",len(tweets_with_topics[tweets_with_topics['party'] == 0]))\n",
    "dem_topic_df.sort_values(by=['total_classified'], ascending=False).reset_index(drop=True)"
   ]
  },
  {
   "cell_type": "code",
   "execution_count": 27,
   "metadata": {},
   "outputs": [
    {
     "name": "stdout",
     "output_type": "stream",
     "text": [
      "total tweets:  175668\n"
     ]
    },
    {
     "data": {
      "text/html": [
       "<div>\n",
       "<style scoped>\n",
       "    .dataframe tbody tr th:only-of-type {\n",
       "        vertical-align: middle;\n",
       "    }\n",
       "\n",
       "    .dataframe tbody tr th {\n",
       "        vertical-align: top;\n",
       "    }\n",
       "\n",
       "    .dataframe thead th {\n",
       "        text-align: right;\n",
       "    }\n",
       "</style>\n",
       "<table border=\"1\" class=\"dataframe\">\n",
       "  <thead>\n",
       "    <tr style=\"text-align: right;\">\n",
       "      <th></th>\n",
       "      <th>topic</th>\n",
       "      <th>avg_count</th>\n",
       "      <th>max_count</th>\n",
       "      <th>total_classified</th>\n",
       "    </tr>\n",
       "  </thead>\n",
       "  <tbody>\n",
       "    <tr>\n",
       "      <th>0</th>\n",
       "      <td>trump</td>\n",
       "      <td>19.53</td>\n",
       "      <td>1015</td>\n",
       "      <td>13818</td>\n",
       "    </tr>\n",
       "    <tr>\n",
       "      <th>1</th>\n",
       "      <td>immigration</td>\n",
       "      <td>6.15</td>\n",
       "      <td>324</td>\n",
       "      <td>4339</td>\n",
       "    </tr>\n",
       "    <tr>\n",
       "      <th>2</th>\n",
       "      <td>jobs</td>\n",
       "      <td>5.74</td>\n",
       "      <td>200</td>\n",
       "      <td>4124</td>\n",
       "    </tr>\n",
       "    <tr>\n",
       "      <th>3</th>\n",
       "      <td>gun_control</td>\n",
       "      <td>4.23</td>\n",
       "      <td>254</td>\n",
       "      <td>3086</td>\n",
       "    </tr>\n",
       "    <tr>\n",
       "      <th>4</th>\n",
       "      <td>health_care</td>\n",
       "      <td>3.77</td>\n",
       "      <td>473</td>\n",
       "      <td>2956</td>\n",
       "    </tr>\n",
       "    <tr>\n",
       "      <th>5</th>\n",
       "      <td>freedom</td>\n",
       "      <td>3.48</td>\n",
       "      <td>276</td>\n",
       "      <td>2418</td>\n",
       "    </tr>\n",
       "    <tr>\n",
       "      <th>6</th>\n",
       "      <td>education</td>\n",
       "      <td>2.47</td>\n",
       "      <td>83</td>\n",
       "      <td>1738</td>\n",
       "    </tr>\n",
       "    <tr>\n",
       "      <th>7</th>\n",
       "      <td>abortion</td>\n",
       "      <td>1.96</td>\n",
       "      <td>75</td>\n",
       "      <td>1405</td>\n",
       "    </tr>\n",
       "    <tr>\n",
       "      <th>8</th>\n",
       "      <td>environment</td>\n",
       "      <td>0.56</td>\n",
       "      <td>33</td>\n",
       "      <td>435</td>\n",
       "    </tr>\n",
       "    <tr>\n",
       "      <th>9</th>\n",
       "      <td>women</td>\n",
       "      <td>0.21</td>\n",
       "      <td>10</td>\n",
       "      <td>157</td>\n",
       "    </tr>\n",
       "    <tr>\n",
       "      <th>10</th>\n",
       "      <td>lgbt</td>\n",
       "      <td>0.08</td>\n",
       "      <td>6</td>\n",
       "      <td>74</td>\n",
       "    </tr>\n",
       "  </tbody>\n",
       "</table>\n",
       "</div>"
      ],
      "text/plain": [
       "          topic avg_count  max_count  total_classified\n",
       "0         trump     19.53       1015             13818\n",
       "1   immigration      6.15        324              4339\n",
       "2          jobs      5.74        200              4124\n",
       "3   gun_control      4.23        254              3086\n",
       "4   health_care      3.77        473              2956\n",
       "5       freedom      3.48        276              2418\n",
       "6     education      2.47         83              1738\n",
       "7      abortion      1.96         75              1405\n",
       "8   environment      0.56         33               435\n",
       "9         women      0.21         10               157\n",
       "10         lgbt      0.08          6                74"
      ]
     },
     "execution_count": 27,
     "metadata": {},
     "output_type": "execute_result"
    }
   ],
   "source": [
    "print(\"total tweets: \", len(tweets_with_topics[tweets_with_topics['party'] == 1]))\n",
    "rep_topic_df.sort_values(by=['total_classified'], ascending=False).reset_index(drop=True)"
   ]
  },
  {
   "cell_type": "code",
   "execution_count": 38,
   "metadata": {},
   "outputs": [
    {
     "data": {
      "text/plain": [
       "<matplotlib.collections.PathCollection at 0x14a078f98>"
      ]
     },
     "execution_count": 38,
     "metadata": {},
     "output_type": "execute_result"
    },
    {
     "data": {
      "image/png": "[encoded data removed]",
      "text/plain": [
       "<Figure size 432x288 with 1 Axes>"
      ]
     },
     "metadata": {},
     "output_type": "display_data"
    }
   ],
   "source": [
    "fig, axs = plt.subplots(1)\n",
    "axs.scatter(rep_df['sentiment'], rep_df['immigration_tweet_count'])"
   ]
  },
  {
   "cell_type": "code",
   "execution_count": 29,
   "metadata": {},
   "outputs": [
    {
     "data": {
      "text/plain": [
       "Index(['tweet_id', 'stripped_text', 'party', 'gun_control', 'health_care',\n",
       "       'abortion', 'immigration', 'kavanaugh', 'education', 'jobs', 'tax',\n",
       "       'fake_news', 'environment', 'sexual_assault', 'gender', 'women', 'lgbt',\n",
       "       'freedom', 'trump', 'twitter_handle'],\n",
       "      dtype='object')"
      ]
     },
     "execution_count": 29,
     "metadata": {},
     "output_type": "execute_result"
    }
   ],
   "source": [
    "tweets_with_topics.columns"
   ]
  },
  {
   "cell_type": "code",
   "execution_count": 39,
   "metadata": {},
   "outputs": [
    {
     "data": {
      "text/plain": [
       "(array([2852.,    0.,    0.,    0.,    0., 2615.,    0.,    0.,    0.,\n",
       "        8351.]),\n",
       " array([0. , 0.4, 0.8, 1.2, 1.6, 2. , 2.4, 2.8, 3.2, 3.6, 4. ]),\n",
       " <a list of 10 Patch objects>)"
      ]
     },
     "execution_count": 39,
     "metadata": {},
     "output_type": "execute_result"
    },
    {
     "data": {
      "image/png": "[encoded data removed]",
      "text/plain": [
       "<Figure size 432x288 with 1 Axes>"
      ]
     },
     "metadata": {},
     "output_type": "display_data"
    }
   ],
   "source": [
    "fig, axs = plt.subplots(1)\n",
    "rep = tweets_topic_sa[(tweets_topic_sa['trump'] == 1) & tweets_topic_sa['party'] == 1].sentiment\n",
    "axs.hist(rep)"
   ]
  },
  {
   "cell_type": "code",
   "execution_count": 123,
   "metadata": {},
   "outputs": [],
   "source": [
    "def print_sentiment_breakdown(tweets_topic_sa, topic):\n",
    "    print(\"== democratic ratios == \")\n",
    "    dem = tweets_topic_sa[(tweets_topic_sa[topic] == 1) & tweets_topic_sa['party'] == 1]\n",
    "    rep = tweets_topic_sa[(tweets_topic_sa[topic] == 1) & tweets_topic_sa['party'] == 0]\n",
    "    print(\"negative sentiment: \", len(dem[dem['sentiment'] == 0]) / len(dem))\n",
    "    print(\"positive sentiment: \", len(dem[dem['sentiment'] == 4]) / len(dem))\n",
    "    print(\"neutral sentiment: \", len(dem[dem['sentiment'] == 2]) / len(dem))\n",
    "\n",
    "    print(\"\\n== republican ratios == \")\n",
    "    print(\"negative sentiment: \", len(rep[rep['sentiment'] == 0]) / len(rep))\n",
    "    print(\"positive sentiment: \", len(rep[rep['sentiment'] == 4]) / len(rep))\n",
    "    print(\"neutral sentiment: \", len(rep[rep['sentiment'] == 2]) / len(rep))\n",
    "\n",
    "def plot_topic(topic):\n",
    "    print(topic)\n",
    "    f, axs = plt.subplots(1,2,figsize=(15,4))\n",
    "    rep = tweets_topic_sa[(tweets_topic_sa[topic] == 1) & tweets_topic_sa['party'] == 1].sentiment\n",
    "    dem = tweets_topic_sa[(tweets_topic_sa[topic] == 1) & tweets_topic_sa['party'] == 0].sentiment\n",
    "\n",
    "    axs[0].hist(dem)\n",
    "    axs[0].set_title(\"democratic - {}\".format(topic))\n",
    "    axs[1].hist(rep)\n",
    "    axs[1].set_title(\"republican - {}\".format(topic))\n",
    "    print_sentiment_breakdown(tweets_topic_sa, topic)\n",
    "    return dem, rep"
   ]
  },
  {
   "cell_type": "code",
   "execution_count": 124,
   "metadata": {},
   "outputs": [
    {
     "name": "stdout",
     "output_type": "stream",
     "text": [
      "4158\n",
      "17831\n",
      "0.23318938926588526\n"
     ]
    }
   ],
   "source": [
    "print(len(tweets_topic_sa[(tweets_topic_sa['health_care'] == 1) & (tweets_topic_sa['party'] == 0) & (tweets_topic_sa['sentiment'] == 0)]))\n",
    "\n",
    "print(len(tweets_topic_sa[(tweets_topic_sa['health_care'] == 1) & (tweets_topic_sa['party'] == 0)]))\n",
    "print(4158 /17831)\n"
   ]
  },
  {
   "cell_type": "code",
   "execution_count": 125,
   "metadata": {},
   "outputs": [
    {
     "name": "stdout",
     "output_type": "stream",
     "text": [
      "trump\n",
      "== democratic ratios == \n",
      "negative sentiment:  0.2063974525980605\n",
      "positive sentiment:  0.6043566362715299\n",
      "neutral sentiment:  0.18924591113040962\n",
      "\n",
      "== republican ratios == \n",
      "negative sentiment:  0.22736426652149686\n",
      "positive sentiment:  0.5808074213167909\n",
      "neutral sentiment:  0.1918283121617123\n"
     ]
    },
    {
     "data": {
      "image/png": "[encoded data removed]",
      "text/plain": [
       "<Figure size 1080x288 with 2 Axes>"
      ]
     },
     "metadata": {},
     "output_type": "display_data"
    }
   ],
   "source": [
    "topic = 'trump'\n",
    "\n",
    "dem, rep = plot_topic(topic)\n",
    "# print_sentiment_breakdown(dem, rep)"
   ]
  },
  {
   "cell_type": "code",
   "execution_count": 126,
   "metadata": {},
   "outputs": [
    {
     "name": "stdout",
     "output_type": "stream",
     "text": [
      "health_care\n",
      "== democratic ratios == \n",
      "negative sentiment:  0.21346414073071718\n",
      "positive sentiment:  0.5967523680649527\n",
      "neutral sentiment:  0.18978349120433016\n",
      "\n",
      "== republican ratios == \n",
      "negative sentiment:  0.22691595458291036\n",
      "positive sentiment:  0.5813091762788207\n",
      "neutral sentiment:  0.19177486913826897\n"
     ]
    },
    {
     "data": {
      "image/png": "[encoded data removed]",
      "text/plain": [
       "<Figure size 1080x288 with 2 Axes>"
      ]
     },
     "metadata": {},
     "output_type": "display_data"
    }
   ],
   "source": [
    "topic = 'health_care'\n",
    "\n",
    "df, df1 = plot_topic(topic)\n",
    "# print_sentiment_breakdown(df, df1)"
   ]
  },
  {
   "cell_type": "code",
   "execution_count": 122,
   "metadata": {},
   "outputs": [
    {
     "name": "stdout",
     "output_type": "stream",
     "text": [
      "immigration\n",
      "== democratic ratios == \n",
      "negative sentiment:  0.1945148651763079\n",
      "positive sentiment:  0.6204194514865177\n",
      "neutral sentiment:  0.18506568333717446\n",
      "\n",
      "== republican ratios == \n",
      "negative sentiment:  0.22709820863686483\n",
      "positive sentiment:  0.5810849406192946\n",
      "neutral sentiment:  0.1918168507438405\n"
     ]
    },
    {
     "data": {
      "image/png": "[encoded data removed]",
      "text/plain": [
       "<Figure size 1080x288 with 2 Axes>"
      ]
     },
     "metadata": {},
     "output_type": "display_data"
    }
   ],
   "source": [
    "topic = 'immigration'\n",
    "dem, rep = plot_topic(topic)"
   ]
  },
  {
   "cell_type": "code",
   "execution_count": null,
   "metadata": {},
   "outputs": [],
   "source": []
  }
 ],
 "metadata": {
  "kernelspec": {
   "display_name": "tf",
   "language": "python",
   "name": "tf"
  },
  "language_info": {
   "codemirror_mode": {
    "name": "ipython",
    "version": 3
   },
   "file_extension": ".py",
   "mimetype": "text/x-python",
   "name": "python",
   "nbconvert_exporter": "python",
   "pygments_lexer": "ipython3",
   "version": "3.6.2"
  }
 },
 "nbformat": 4,
 "nbformat_minor": 2
}
