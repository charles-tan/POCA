{
 "cells": [
  {
   "cell_type": "code",
   "execution_count": 3,
   "metadata": {},
   "outputs": [],
   "source": [
    "import pandas as pd\n",
    "import matplotlib.pyplot as plt"
   ]
  },
  {
   "cell_type": "code",
   "execution_count": 4,
   "metadata": {},
   "outputs": [
    {
     "name": "stdout",
     "output_type": "stream",
     "text": [
      "149 : 767\n",
      "266 : 695\n"
     ]
    }
   ],
   "source": [
    "dem_df = pd.read_csv('../data/post_dem_candidates_with_tweet_topics.csv', encoding=\"ISO-8859-1\").dropna(subset=['primary_pctg'])\n",
    "rep_df = pd.read_csv('../data/post_rep_candidates_with_tweet_topics.csv', encoding=\"ISO-8859-1\").dropna(subset=['primary_pctg'])\n",
    "\n",
    "sa_all_tweets = pd.read_csv('../data/tweet_data/sa_all_tweets_post.csv', index_col=False)\n",
    "tweets_with_topics = pd.read_csv('../data/tweet_data/tweets_with_topics.csv', index_col=False)\n",
    "tweets_with_topics = tweets_with_topics.rename(index=str, columns={\"tweet_idx\": \"tweet_id\"})\n",
    "\n",
    "# dem_df['sentiment'] = dem_df['sentiment']\n",
    "# rep_df['sentiment'] = rep_df['sentiment']\n",
    "\n",
    "print(str(len(dem_df[dem_df['sentiment'].isna() == True])) + \" : \" + str(len(dem_df)))\n",
    "print(str(len(rep_df[rep_df['sentiment'].isna() == True])) + \" : \" + str(len(rep_df)))\n"
   ]
  },
  {
   "cell_type": "code",
   "execution_count": 23,
   "metadata": {},
   "outputs": [
    {
     "name": "stdout",
     "output_type": "stream",
     "text": [
      "STEM\n",
      "\n",
      "won and stem:  24\n",
      "lost and stem:  108\n",
      "won and not stem:  178\n",
      "lost and not stem:  424\n",
      "\n",
      "stem:  134\n",
      "non stem:  622\n"
     ]
    }
   ],
   "source": [
    "stem_candidates = dem_df[dem_df['stem'] == 'Yes']\n",
    "not_stem_candidates = dem_df[dem_df['stem'] == 'No']\n",
    "\n",
    "print(\"STEM\\n\")\n",
    "print(\"won and stem: \", len(stem_candidates[stem_candidates['won_primary'] == 'Yes']))\n",
    "print(\"lost and stem: \", len(stem_candidates[stem_candidates['won_primary'] == 'No']))\n",
    "\n",
    "print(\"won and not stem: \", len(not_stem_candidates[not_stem_candidates['won_primary'] == 'Yes']))\n",
    "print(\"lost and not stem: \", len(not_stem_candidates[not_stem_candidates['won_primary'] == 'No']))\n",
    "\n",
    "print()\n",
    "print(\"stem: \", len(stem_candidates))\n",
    "print(\"non stem: \", len(not_stem_candidates))"
   ]
  },
  {
   "cell_type": "code",
   "execution_count": 24,
   "metadata": {},
   "outputs": [
    {
     "name": "stdout",
     "output_type": "stream",
     "text": [
      "INDIVISIBLE ENDORSED\n",
      "\n",
      "won and indivisible_endorsed:  22\n",
      "lost and indivisible_endorsed:  15\n",
      "won and not indivisible_endorsed:  11\n",
      "lost and not indivisible_endorsed:  76\n",
      "\n",
      "indivisible_endorsed:  37\n",
      "non indivisible_endorsed:  87\n"
     ]
    }
   ],
   "source": [
    "e_candidates = dem_df[dem_df['indivisible_endorsed'] == 'Yes']\n",
    "not_e_candidates = dem_df[dem_df['indivisible_endorsed'] == 'No']\n",
    "\n",
    "print(\"INDIVISIBLE ENDORSED\\n\")\n",
    "print(\"won and indivisible_endorsed: \", len(e_candidates[e_candidates['won_primary'] == 'Yes']))\n",
    "print(\"lost and indivisible_endorsed: \", len(e_candidates[e_candidates['won_primary'] == 'No']))\n",
    "\n",
    "print(\"won and not indivisible_endorsed: \", len(not_e_candidates[not_e_candidates['won_primary'] == 'Yes']))\n",
    "print(\"lost and not indivisible_endorsed: \", len(not_e_candidates[not_e_candidates['won_primary'] == 'No']))\n",
    "\n",
    "print()\n",
    "print(\"indivisible_endorsed: \", len(e_candidates))\n",
    "print(\"non indivisible_endorsed: \", len(not_e_candidates))"
   ]
  },
  {
   "cell_type": "code",
   "execution_count": 31,
   "metadata": {},
   "outputs": [
    {
     "name": "stdout",
     "output_type": "stream",
     "text": [
      "33\n",
      "3\n",
      "1\n"
     ]
    }
   ],
   "source": [
    "print(len(e_candidates[e_candidates['office_type'] == 'Representative']))\n",
    "print(len(e_candidates[e_candidates['office_type'] == 'Governor']))\n",
    "print(len(e_candidates[e_candidates['office_type'] == 'Senator']))"
   ]
  },
  {
   "cell_type": "code",
   "execution_count": 35,
   "metadata": {
    "scrolled": true
   },
   "outputs": [
    {
     "data": {
      "text/plain": [
       "24"
      ]
     },
     "execution_count": 35,
     "metadata": {},
     "output_type": "execute_result"
    }
   ],
   "source": [
    "len(dem_df[dem_df['office_type'] == 'Senator'])"
   ]
  },
  {
   "cell_type": "code",
   "execution_count": null,
   "metadata": {},
   "outputs": [],
   "source": []
  }
 ],
 "metadata": {
  "kernelspec": {
   "display_name": "Python 3",
   "language": "python",
   "name": "python3"
  },
  "language_info": {
   "codemirror_mode": {
    "name": "ipython",
    "version": 3
   },
   "file_extension": ".py",
   "mimetype": "text/x-python",
   "name": "python",
   "nbconvert_exporter": "python",
   "pygments_lexer": "ipython3",
   "version": "3.7.0"
  }
 },
 "nbformat": 4,
 "nbformat_minor": 2
}
