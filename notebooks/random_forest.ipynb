{
 "cells": [
  {
   "cell_type": "code",
   "execution_count": 1,
   "metadata": {},
   "outputs": [],
   "source": [
    "import pandas as pd\n",
    "import numpy as np\n",
    "from sklearn.ensemble import RandomForestRegressor\n",
    "from sklearn.datasets import make_regression"
   ]
  },
  {
   "cell_type": "code",
   "execution_count": 2,
   "metadata": {},
   "outputs": [],
   "source": [
    "dem_df = pd.read_csv('../data/dem_num_endorsements.csv', encoding=\"ISO-8859-1\").dropna(subset=['primary_pctg'])\n",
    "rep_df = pd.read_csv('../data/rep_num_endorsements.csv', encoding=\"ISO-8859-1\").dropna(subset=['primary_pctg'])\n",
    "\n",
    "dem_drop_cols = ['won_primary', 'primary_status', 'general_status', 'primary_pctg', 'candidate', 'primary_runoff_status', \n",
    "'num_non_endorsements', 'num_endorsements', 'partisan_lean', 'district']\n",
    "\n",
    "rep_drop_cols = ['won_primary', 'primary_status', 'general_status', 'primary_pctg', 'candidate', 'primary_runoff_status', \n",
    "'num_non_endorsements', 'num_endorsements', 'district']\n",
    "# drop race primary (date), candidate (name irrelevant)\n",
    "\n",
    "def run_random_forest(df, drop_cols):\n",
    "    msk = np.random.rand(len(df)) < 0.8\n",
    "    train = df[msk]\n",
    "    test = df[~msk]\n",
    "\n",
    "    train_x = train.drop(drop_cols, axis=1)\n",
    "    train_y = train[['primary_pctg', 'won_primary']]\n",
    "    train_y_primary_pctg = train['primary_pctg']\n",
    "    train_y_won_primary = train['won_primary']\n",
    "\n",
    "\n",
    "    test_x = test.drop(drop_cols, axis=1) \n",
    "    test_y = test[['primary_pctg', 'won_primary']]\n",
    "    test_y_primary_pctg = test['primary_pctg']\n",
    "    test_y_won_primary = test['won_primary']\n",
    "\n",
    "    regr = RandomForestRegressor(max_depth=2, random_state=0, n_estimators=100)\n",
    "    regr.fit(train_x, train_y)\n",
    "\n",
    "    regr.score(test_x, test_y)\n",
    "    feature_importances = pd.DataFrame(regr.feature_importances_, index = train_x.columns, columns=['importance']).sort_values('importance',ascending=False)\n",
    "    print(feature_importances)\n"
   ]
  },
  {
   "cell_type": "code",
   "execution_count": 3,
   "metadata": {},
   "outputs": [
    {
     "name": "stdout",
     "output_type": "stream",
     "text": [
      "DEMOCRATIC: \n",
      "                         importance\n",
      "guns_sense_candidate       0.447298\n",
      "emily_endorsed             0.418751\n",
      "our_revolution_endorsed    0.103279\n",
      "self_funder                0.011989\n",
      "state                      0.007128\n",
      "elected_official           0.004242\n",
      "race_primary               0.003770\n",
      "dem_party_support          0.001242\n",
      "office_type                0.000725\n",
      "pccc_endorsed              0.000633\n",
      "lgbtq                      0.000299\n",
      "wfp_endorsed               0.000255\n",
      "obama_alum                 0.000204\n",
      "veteran                    0.000186\n",
      "justice_dems_endorsed      0.000000\n",
      "votevets_endorsed          0.000000\n",
      "indivisible_endorsed       0.000000\n",
      "biden_endorsed             0.000000\n",
      "race_type                  0.000000\n",
      "sanders_endorsed           0.000000\n",
      "warren_endorsed            0.000000\n",
      "stem                       0.000000\n",
      "race                       0.000000\n",
      "no_labels_support          0.000000\n",
      "\n",
      "\n"
     ]
    }
   ],
   "source": [
    "print(\"DEMOCRATIC: \")\n",
    "run_random_forest(dem_df, dem_drop_cols)\n",
    "print(\"\\n\")"
   ]
  },
  {
   "cell_type": "code",
   "execution_count": 4,
   "metadata": {},
   "outputs": [
    {
     "name": "stdout",
     "output_type": "stream",
     "text": [
      "REPUBLICAN: \n",
      "                            importance\n",
      "right_to_life_endorsed        0.690991\n",
      "susan_b_anthony_endorsed      0.142733\n",
      "tea_party_endorsed            0.043197\n",
      "club_for_growth_endorsed      0.042913\n",
      "koch_support                  0.028068\n",
      "rep_party_support             0.027327\n",
      "house_freedom_support         0.005442\n",
      "office_type                   0.005324\n",
      "state                         0.005275\n",
      "main_street_endorsed          0.004654\n",
      "race_primary_election_date    0.003820\n",
      "bannon_endorsed               0.000257\n",
      "nra_endorsed                  0.000000\n",
      "great_america_endorsed        0.000000\n",
      "trump_endorsed                0.000000\n",
      "race_type                     0.000000\n",
      "chamber_endorsed              0.000000\n",
      "no_labels_support             0.000000\n"
     ]
    }
   ],
   "source": [
    "print(\"REPUBLICAN: \")\n",
    "run_random_forest(rep_df, rep_drop_cols)"
   ]
  },
  {
   "cell_type": "code",
   "execution_count": null,
   "metadata": {},
   "outputs": [],
   "source": []
  }
 ],
 "metadata": {
  "kernelspec": {
   "display_name": "Python 3",
   "language": "python",
   "name": "python3"
  },
  "language_info": {
   "codemirror_mode": {
    "name": "ipython",
    "version": 3
   },
   "file_extension": ".py",
   "mimetype": "text/x-python",
   "name": "python",
   "nbconvert_exporter": "python",
   "pygments_lexer": "ipython3",
   "version": "3.7.0"
  }
 },
 "nbformat": 4,
 "nbformat_minor": 2
}
